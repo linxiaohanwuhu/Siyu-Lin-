{
 "cells": [
  {
   "cell_type": "markdown",
   "id": "bb3538e4",
   "metadata": {},
   "source": [
    "# Selecting columns"
   ]
  },
  {
   "cell_type": "markdown",
   "id": "ed910d96",
   "metadata": {},
   "source": [
    "#Database Manipulation"
   ]
  },
  {
   "cell_type": "markdown",
   "id": "e74c14c4",
   "metadata": {},
   "source": [
    "#The only difference of these database languages versus the built-in commands in Python and R is these commands are designed to talk to the databases\n",
    "#In a real-world project (often dynamic, collaborative, and large-scaled),\n",
    "#it is unlikely that you will download the data to your local machine every time. \n",
    "#Therefore, a database is needed in the infulstructure.\n"
   ]
  },
  {
   "cell_type": "markdown",
   "id": "1afa8817",
   "metadata": {},
   "source": [
    "\n",
    "#写result： DataCamp <3 SQL\n",
    "SELECT 'DataCamp <3 SQL'\n",
    "AS result;\n"
   ]
  },
  {
   "cell_type": "markdown",
   "id": "8e5af72c",
   "metadata": {},
   "source": [
    "#SQL, which stands for Structured Query Language--a relational database. have a table \n",
    "#each coloum called fields "
   ]
  },
  {
   "cell_type": "markdown",
   "id": "7be47173",
   "metadata": {},
   "source": [
    "#从数据库里people里选name\n",
    "SELECT name FROM people;\n",
    "\n",
    "#选多个\n",
    "SELECT name, birthdate\n",
    "FROM people;\n",
    "\n",
    "#选全列\n",
    "SELECT *\n",
    "FROM people;\n",
    "\n",
    "#return a certain number of results, you can use the LIMIT keyword to limit the number of rows returned:\n",
    "SELECT *\n",
    "FROM people\n",
    "LIMIT 10;"
   ]
  },
  {
   "cell_type": "markdown",
   "id": "14b8b110",
   "metadata": {},
   "source": [
    "#SELECT DISTINCT\n",
    "#Often your results will include many duplicate values. \n",
    "#If you want to select all the unique values from a column, you can use the DISTINCT keyword.\n",
    "\n",
    "SELECT DISTINCT language FROM films;\n",
    "\n",
    "#结果为同种类没有重复的一样一个"
   ]
  },
  {
   "cell_type": "markdown",
   "id": "2533878b",
   "metadata": {},
   "source": [
    "#Learning to COUNT\n",
    "#the number of rows in one or more columns.\n",
    "SELECT COUNT(*)\n",
    "FROM people;\n",
    "\n",
    "#count the number of non-missing values in a particular column\n",
    "SELECT COUNT(birthdate)\n",
    "FROM people;\n",
    "#显示除去birthdate里面的missing value\n",
    "\n",
    "SELECT COUNT(DISTINCT birthdate)\n",
    "FROM people;\n",
    "#显示没有重复没有missing value 的"
   ]
  },
  {
   "cell_type": "markdown",
   "id": "887c6c54",
   "metadata": {},
   "source": [
    "# Filtering rows"
   ]
  },
  {
   "cell_type": "markdown",
   "id": "e27ec26c",
   "metadata": {},
   "source": [
    "In SQL, the WHERE keyword allows you to filter based on both text and numeric values in a table. There are a few different comparison operators you can use:\n",
    "\n",
    "= equal\n",
    "<> not equal\n",
    "< less than\n",
    "> greater than\n",
    "<= less than or equal to\n",
    ">= greater than or equal to"
   ]
  },
  {
   "cell_type": "markdown",
   "id": "a10f1ce6",
   "metadata": {},
   "source": [
    "where  +   and "
   ]
  },
  {
   "cell_type": "markdown",
   "id": "85fba2fb",
   "metadata": {},
   "source": [
    "选择films 里面的title 是 'Metropolis'的： \n",
    "\n",
    "SELECT title\n",
    "FROM films\n",
    "WHERE title = 'Metropolis';\n",
    "\n",
    "Notice that the WHERE clause always comes after the FROM statement!"
   ]
  },
  {
   "cell_type": "markdown",
   "id": "15585f59",
   "metadata": {},
   "source": [
    "选择film里面的title和release year是大于2000的\n",
    "SELECT title, release_year\n",
    "FROM films\n",
    "WHERE release_year > 2000;"
   ]
  },
  {
   "cell_type": "markdown",
   "id": "6f76d2b3",
   "metadata": {},
   "source": [
    "选择films 里面年份是1994 到2000年之间的\n",
    "“and”必须隔行\n",
    "SELECT title\n",
    "FROM films\n",
    "WHERE release_year > 1994\n",
    "AND release_year < 2000;"
   ]
  },
  {
   "cell_type": "markdown",
   "id": "0516bff7",
   "metadata": {},
   "source": [
    "Get all details for Spanish language films released after 2000, but before 2010.\n",
    "SELECT *\n",
    "FROM films\n",
    "WHERE release_year > 2000\n",
    "AND release_year < 2010\n",
    "AND language = 'Spanish';"
   ]
  },
  {
   "cell_type": "markdown",
   "id": "71379c9b",
   "metadata": {},
   "source": [
    "where.  +   or "
   ]
  },
  {
   "cell_type": "markdown",
   "id": "763a12b9",
   "metadata": {},
   "source": [
    " #either \"PG\" or \"R\". and either 1994 or 1995:\n",
    "SELECT title\n",
    "FROM films\n",
    "WHERE (release_year = 1994 OR release_year = 1995)\n",
    "AND (certification = 'PG' OR certification = 'R');"
   ]
  },
  {
   "cell_type": "markdown",
   "id": "e9c8c458",
   "metadata": {},
   "source": [
    "选择 90s\n",
    "SELECT title, release_year\n",
    "FROM films\n",
    "WHERE release_year >= 1990 AND release_year < 2000;"
   ]
  },
  {
   "cell_type": "markdown",
   "id": "e7103c11",
   "metadata": {},
   "source": [
    "BETWEEN"
   ]
  },
  {
   "cell_type": "markdown",
   "id": "af3d2328",
   "metadata": {},
   "source": [
    "It's important to remember that BETWEEN is inclusive, meaning the beginning and end values are included in the results!\n",
    "\n",
    "SELECT title\n",
    "FROM films\n",
    "WHERE release_year\n",
    "BETWEEN 1994 AND 2000;"
   ]
  },
  {
   "cell_type": "markdown",
   "id": "b8760d0f",
   "metadata": {},
   "source": [
    "SELECT name\n",
    "FROM kids\n",
    "WHERE age IN (2, 4, 6, 8, 10);"
   ]
  },
  {
   "cell_type": "markdown",
   "id": "13c3d78c",
   "metadata": {},
   "source": [
    "Introduction to NULL and IS NULL"
   ]
  },
  {
   "cell_type": "markdown",
   "id": "da4d1913",
   "metadata": {},
   "source": [
    "#to count the number of missing birth dates in the people table:\n",
    "SELECT COUNT(*)\n",
    "FROM people\n",
    "WHERE birthdate IS NULL;"
   ]
  },
  {
   "cell_type": "markdown",
   "id": "722286f5",
   "metadata": {},
   "source": [
    "#names of all people whose birth dates are not missing in the people table.\n",
    "SELECT name\n",
    "FROM people\n",
    "WHERE birthdate IS NOT NULL;"
   ]
  },
  {
   "cell_type": "markdown",
   "id": "614a88ba",
   "metadata": {},
   "source": [
    "LIKE and NOT LIKE"
   ]
  },
  {
   "cell_type": "markdown",
   "id": "c9e95722",
   "metadata": {},
   "source": [
    "#The % wildcard will match zero, one, or many characters in text.'Data', 'DataC' 'DataCamp', 'DataMind', and so on:\n",
    "SELECT name\n",
    "FROM companies\n",
    "WHERE name LIKE 'Data%';\n",
    "#搜索所有data加什么什么"
   ]
  },
  {
   "cell_type": "markdown",
   "id": "542334c8",
   "metadata": {},
   "source": [
    "#The _ wildcard will match a single character. For example, the following query matches companies like 'DataCamp', 'DataComp', and so on:\n",
    "SELECT name\n",
    "FROM companies\n",
    "WHERE name LIKE 'DataC_mp';"
   ]
  },
  {
   "cell_type": "markdown",
   "id": "155dd397",
   "metadata": {},
   "source": [
    "#Get the names of people whose names have 'r' as the second letter. The pattern you need is '_r%'.\n",
    "select *\n",
    "from people \n",
    "where name LIKE '_r%'"
   ]
  },
  {
   "cell_type": "markdown",
   "id": "0efb4a1c",
   "metadata": {},
   "source": [
    "# Aggregate functions"
   ]
  },
  {
   "cell_type": "markdown",
   "id": "e4e84985",
   "metadata": {},
   "source": [
    "最大值\n",
    "SELECT MAX(budget)\n",
    "FROM films;\n",
    "总和\n",
    "SELECT SUM(budget)\n",
    "FROM films;\n",
    "平均值\n",
    "SELECT AVG(budget)\n",
    "FROM films;\n",
    "最小值\n",
    "SELECT MIN(budget)\n",
    "FROM films;"
   ]
  },
  {
   "cell_type": "markdown",
   "id": "204f73a7",
   "metadata": {},
   "source": [
    "#A note on arithmetic"
   ]
  },
  {
   "cell_type": "markdown",
   "id": "a0693dab",
   "metadata": {},
   "source": [
    "you can perform basic arithmetic with symbols like +, -, *, and /.\n",
    "SELECT (4 / 3);"
   ]
  },
  {
   "cell_type": "markdown",
   "id": "20bc6525",
   "metadata": {},
   "source": [
    "#It's AS simple AS aliasing"
   ]
  },
  {
   "cell_type": "markdown",
   "id": "66c3fef6",
   "metadata": {},
   "source": [
    "得到两个最大值buget and duration\n",
    "SELECT MAX(budget) AS max_budget,\n",
    "       MAX(duration) AS max_duration\n",
    "FROM films;"
   ]
  },
  {
   "cell_type": "markdown",
   "id": "4a70fe3a",
   "metadata": {},
   "source": [
    "#Get the title and duration in hours for all films. The duration is in minutes, so you'll need to divide by 60.0 to get the duration in hours. Alias the duration in hours as duration_hours\n",
    "\n",
    "select title, duration/60.0 AS duration_hours\n",
    "from films"
   ]
  },
  {
   "cell_type": "markdown",
   "id": "f746db10",
   "metadata": {},
   "source": [
    "# ORDER BY"
   ]
  },
  {
   "cell_type": "markdown",
   "id": "14b7b50a",
   "metadata": {},
   "source": [
    "By default ORDER BY will sort in ascending order. If you want to sort the results in descending order, you can use the DESC keyword. "
   ]
  },
  {
   "cell_type": "markdown",
   "id": "1e719748",
   "metadata": {},
   "source": [
    "Get the title and gross earnings for movies which begin with the letter 'M' and order the results alphabetically.\n",
    "\n",
    "select title, gross \n",
    "from films \n",
    "where title LIKE 'M%'\n",
    "order by title "
   ]
  },
  {
   "cell_type": "markdown",
   "id": "28b74703",
   "metadata": {},
   "source": [
    "Sorting single columns (DESC)\n",
    "\n",
    "从低到高order by + 要排列的东西+DESC"
   ]
  },
  {
   "cell_type": "markdown",
   "id": "639984b5",
   "metadata": {},
   "source": [
    "Sorting multiple columns\n",
    "\n",
    "SELECT birthdate, name\n",
    "\n",
    "FROM people\n",
    "\n",
    "ORDER BY birthdate, name;"
   ]
  },
  {
   "cell_type": "markdown",
   "id": "8fd739cc",
   "metadata": {},
   "source": [
    "# GROUP BY"
   ]
  },
  {
   "cell_type": "markdown",
   "id": "9d542757",
   "metadata": {},
   "source": [
    "算男生和女生的数量，ORDER BY 在 GROUP BY之后\n",
    "\n",
    "SELECT sex, count(*)\n",
    "FROM employees\n",
    "GROUP BY sex;"
   ]
  },
  {
   "cell_type": "markdown",
   "id": "05dd4a69",
   "metadata": {},
   "source": [
    "在group后里面用having进行filter\n",
    "where the HAVING clause comes in. For example,\n",
    "\n",
    "SELECT release_year\n",
    "FROM films\n",
    "GROUP BY release_year\n",
    "HAVING COUNT(title) > 10;"
   ]
  },
  {
   "cell_type": "markdown",
   "id": "379f8440",
   "metadata": {},
   "source": [
    "Get the country, average budget, and average gross take of countries that have made more than 10 films. Order the result by country name, and limit the number of results displayed to 5. You should alias the averages as avg_budget and avg_gross respectively.\n",
    "选择一个国家超过10部电影包括平均budget平均gross，只展示5个结果。 Heaving 要在group by后面\n",
    "\n",
    "SELECT country, AVG(budget) AS avg_budget, \n",
    "       AVG(gross) AS avg_gross\n",
    "       \n",
    "FROM films\n",
    "\n",
    "GROUP BY country\n",
    "\n",
    "HAVING COUNT(title) > 10\n",
    "\n",
    "ORDER BY country\n",
    "\n",
    "LIMIT 5;"
   ]
  },
  {
   "cell_type": "markdown",
   "id": "58ca6609",
   "metadata": {},
   "source": [
    "用 JOIN 来连接两个不同的表，用另一个表中的信息（film）加另一个表中的信息（review）\n",
    "\n",
    "SELECT title, imdb_score\n",
    "FROM films\n",
    "JOIN reviews\n",
    "ON films.id = reviews.film_id\n",
    "WHERE title = 'To Kill a Mockingbird';"
   ]
  },
  {
   "cell_type": "code",
   "execution_count": null,
   "id": "5777f1f6",
   "metadata": {},
   "outputs": [],
   "source": []
  }
 ],
 "metadata": {
  "kernelspec": {
   "display_name": "Python 3",
   "language": "python",
   "name": "python3"
  },
  "language_info": {
   "codemirror_mode": {
    "name": "ipython",
    "version": 3
   },
   "file_extension": ".py",
   "mimetype": "text/x-python",
   "name": "python",
   "nbconvert_exporter": "python",
   "pygments_lexer": "ipython3",
   "version": "3.8.8"
  }
 },
 "nbformat": 4,
 "nbformat_minor": 5
}
