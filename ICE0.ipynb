{
 "cells": [
  {
   "cell_type": "markdown",
   "id": "ee2d5a44",
   "metadata": {},
   "source": [
    "# ICE0\n",
    "print(\"Hello world!\") "
   ]
  },
  {
   "cell_type": "code",
   "execution_count": null,
   "id": "66019f3a",
   "metadata": {},
   "outputs": [],
   "source": [
    "y=5\n",
    "xy=\"whatsup\"\n",
    "print(x,y,x+y,xy)\n",
    "print(x)\n",
    "x=5\n",
    "print(x)\n",
    "x=y\n",
    "print(y)"
   ]
  },
  {
   "cell_type": "code",
   "execution_count": null,
   "id": "1c9515a5",
   "metadata": {},
   "outputs": [],
   "source": [
    "x=1\n",
    "y=5\n",
    "x=y\n",
    "print(x)"
   ]
  },
  {
   "cell_type": "code",
   "execution_count": null,
   "id": "578496d6",
   "metadata": {},
   "outputs": [],
   "source": [
    "a=1+3\n",
    "print(\"1+3=\",a)\n",
    "b=8-4\n",
    "print(\"8-4=\",b)\n",
    "c=3*4\n",
    "print(\"3*4=\",c)\n",
    "d=8/4\n",
    "print(\"8/4=\",d) #run for 2.0"
   ]
  },
  {
   "cell_type": "code",
   "execution_count": null,
   "id": "192fd6e6",
   "metadata": {},
   "outputs": [],
   "source": [
    "# %: remainder.   // : interger \n",
    "m=10%6\n",
    "print(\"m=\",m)\n",
    "g=10//6\n",
    "print(\"g=\",g)"
   ]
  },
  {
   "cell_type": "code",
   "execution_count": 1,
   "id": "a126a448",
   "metadata": {},
   "outputs": [
    {
     "name": "stdout",
     "output_type": "stream",
     "text": [
      "a= 2 ;m= 1 ;f= 2\n",
      "a is equal to f? True\n",
      "a is not equal to f?  False\n",
      "m is smaller than f? True\n"
     ]
    }
   ],
   "source": [
    "a=2\n",
    "m=1\n",
    "f=2\n",
    "print(\"a=\",a,';'\"m=\",m,';'\"f=\",f,)\n",
    "print(\"a is equal to f?\", a==f)\n",
    "print(\"a is not equal to f? \", a!=f)\n",
    "print(\"m is smaller than f?\", m<f)\n"
   ]
  },
  {
   "cell_type": "markdown",
   "id": "f0c0cd3d",
   "metadata": {},
   "source": [
    "# this line is a comment "
   ]
  },
  {
   "cell_type": "markdown",
   "id": "b301a1d9",
   "metadata": {},
   "source": [
    "import os\n",
    "os.getcwd()"
   ]
  },
  {
   "cell_type": "markdown",
   "id": "cd6ceff3",
   "metadata": {},
   "source": []
  }
 ],
 "metadata": {
  "kernelspec": {
   "display_name": "Python 3",
   "language": "python",
   "name": "python3"
  },
  "language_info": {
   "codemirror_mode": {
    "name": "ipython",
    "version": 3
   },
   "file_extension": ".py",
   "mimetype": "text/x-python",
   "name": "python",
   "nbconvert_exporter": "python",
   "pygments_lexer": "ipython3",
   "version": "3.8.8"
  }
 },
 "nbformat": 4,
 "nbformat_minor": 5
}
