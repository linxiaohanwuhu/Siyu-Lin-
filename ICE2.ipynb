{
 "cells": [
  {
   "cell_type": "markdown",
   "id": "a1708572",
   "metadata": {},
   "source": [
    "#Data indexing\n",
    "#three types of matrix-like data structure: array, Series and DataFrame\n",
    "#array is the way of storing matrix data in NumPy, \n",
    "#Series and DataFrame are more commonly used in Pandas.\n",
    "#The Pandas module mainly works with the tabular data\n",
    "#the NumPy module works with the numerical data.\n"
   ]
  },
  {
   "cell_type": "markdown",
   "id": "5f5aba7e",
   "metadata": {},
   "source": [
    "#Data manipulation in array"
   ]
  },
  {
   "cell_type": "code",
   "execution_count": 9,
   "id": "dfd84f9e",
   "metadata": {},
   "outputs": [
    {
     "name": "stdout",
     "output_type": "stream",
     "text": [
      "The one-dimensional array looks like this:\n",
      " [66 92 98 17 83 57 86 97 96 47]\n",
      "The two-dimensional array looks like this:\n",
      " [[9 0 0 9]\n",
      " [3 4 0 0]\n",
      " [4 1 7 3]]\n"
     ]
    }
   ],
   "source": [
    "import numpy as np\n",
    "np.random.seed(123)#Setting a seed = 123 help us generate the exact same numbers\n",
    "m1 = np.random.randint(0, 100, size = 10) \n",
    "m2 = np.random.randint(10, size=(3, 4)) \n",
    "print(\"The one-dimensional array looks like this:\\n\", m1)\n",
    "print(\"The two-dimensional array looks like this:\\n\", m2)"
   ]
  },
  {
   "cell_type": "markdown",
   "id": "4c09dce9",
   "metadata": {},
   "source": [
    "#Accessing single elements"
   ]
  },
  {
   "cell_type": "code",
   "execution_count": 27,
   "id": "2befa472",
   "metadata": {},
   "outputs": [
    {
     "data": {
      "text/plain": [
       "98"
      ]
     },
     "execution_count": 27,
     "metadata": {},
     "output_type": "execute_result"
    }
   ],
   "source": [
    "m1[0]\n",
    "m1[2]"
   ]
  },
  {
   "cell_type": "code",
   "execution_count": 28,
   "id": "5b7b71dc",
   "metadata": {},
   "outputs": [
    {
     "data": {
      "text/plain": [
       "96"
      ]
     },
     "execution_count": 28,
     "metadata": {},
     "output_type": "execute_result"
    }
   ],
   "source": [
    "#count from the end\n",
    "m1[-2]"
   ]
  },
  {
   "cell_type": "code",
   "execution_count": 29,
   "id": "caffe9dd",
   "metadata": {},
   "outputs": [
    {
     "data": {
      "text/plain": [
       "9"
      ]
     },
     "execution_count": 29,
     "metadata": {},
     "output_type": "execute_result"
    }
   ],
   "source": [
    "m2[0, -1] # First row, last column"
   ]
  },
  {
   "cell_type": "code",
   "execution_count": 30,
   "id": "7795a85d",
   "metadata": {},
   "outputs": [
    {
     "data": {
      "text/plain": [
       "3"
      ]
     },
     "execution_count": 30,
     "metadata": {},
     "output_type": "execute_result"
    }
   ],
   "source": [
    "m2[2,3]"
   ]
  },
  {
   "cell_type": "markdown",
   "id": "35a06a75",
   "metadata": {},
   "source": [
    "#Accessing subarrays"
   ]
  },
  {
   "cell_type": "code",
   "execution_count": 31,
   "id": "89724bc3",
   "metadata": {},
   "outputs": [
    {
     "data": {
      "text/plain": [
       "array([66, 17, 86])"
      ]
     },
     "execution_count": 31,
     "metadata": {},
     "output_type": "execute_result"
    }
   ],
   "source": [
    "#x[start:stop:step]\n",
    "m1[0:8:3]"
   ]
  },
  {
   "cell_type": "code",
   "execution_count": 32,
   "id": "649d3c70",
   "metadata": {},
   "outputs": [
    {
     "data": {
      "text/plain": [
       "array([66, 92, 98, 17, 83])"
      ]
     },
     "execution_count": 32,
     "metadata": {},
     "output_type": "execute_result"
    }
   ],
   "source": [
    "m1[:5] # accessing the first five elements"
   ]
  },
  {
   "cell_type": "code",
   "execution_count": 33,
   "id": "bf5d3ff8",
   "metadata": {},
   "outputs": [
    {
     "data": {
      "text/plain": [
       "array([57, 86, 97, 96, 47])"
      ]
     },
     "execution_count": 33,
     "metadata": {},
     "output_type": "execute_result"
    }
   ],
   "source": [
    "m1[5:] # accessing elements after the sixth element"
   ]
  },
  {
   "cell_type": "code",
   "execution_count": 35,
   "id": "bcacb508",
   "metadata": {},
   "outputs": [
    {
     "data": {
      "text/plain": [
       "array([66, 98, 83, 86, 96])"
      ]
     },
     "execution_count": 35,
     "metadata": {},
     "output_type": "execute_result"
    }
   ],
   "source": [
    "m1[::2] # every other elements, step=2"
   ]
  },
  {
   "cell_type": "code",
   "execution_count": 36,
   "id": "d3232edb",
   "metadata": {},
   "outputs": [
    {
     "data": {
      "text/plain": [
       "array([92, 17, 57, 97, 47])"
      ]
     },
     "execution_count": 36,
     "metadata": {},
     "output_type": "execute_result"
    }
   ],
   "source": [
    "m1[1::2] #access every other element starting from the second"
   ]
  },
  {
   "cell_type": "code",
   "execution_count": 37,
   "id": "0caeb10e",
   "metadata": {},
   "outputs": [
    {
     "data": {
      "text/plain": [
       "array([47, 96, 97, 86, 57, 83, 17, 98, 92, 66])"
      ]
     },
     "execution_count": 37,
     "metadata": {},
     "output_type": "execute_result"
    }
   ],
   "source": [
    "m1[::-1] # all elements, reversed"
   ]
  },
  {
   "cell_type": "markdown",
   "id": "23e39313",
   "metadata": {},
   "source": [
    "#Multi-dimensional slices work in the same way, with multiple slices separated by commas. "
   ]
  },
  {
   "cell_type": "code",
   "execution_count": 38,
   "id": "639b0945",
   "metadata": {},
   "outputs": [
    {
     "data": {
      "text/plain": [
       "array([[9, 0, 0],\n",
       "       [3, 4, 0]])"
      ]
     },
     "execution_count": 38,
     "metadata": {},
     "output_type": "execute_result"
    }
   ],
   "source": [
    "m2[:2, :3] # first two rows, first three columns"
   ]
  },
  {
   "cell_type": "code",
   "execution_count": 39,
   "id": "71b29bae",
   "metadata": {},
   "outputs": [
    {
     "data": {
      "text/plain": [
       "array([9, 3, 4])"
      ]
     },
     "execution_count": 39,
     "metadata": {},
     "output_type": "execute_result"
    }
   ],
   "source": [
    "m2[:, 0]"
   ]
  },
  {
   "cell_type": "code",
   "execution_count": 40,
   "id": "9a333a60",
   "metadata": {},
   "outputs": [
    {
     "data": {
      "text/plain": [
       "array([9, 0, 0, 9])"
      ]
     },
     "execution_count": 40,
     "metadata": {},
     "output_type": "execute_result"
    }
   ],
   "source": [
    "m2[0, :] "
   ]
  },
  {
   "cell_type": "code",
   "execution_count": 41,
   "id": "eb18d780",
   "metadata": {},
   "outputs": [
    {
     "data": {
      "text/plain": [
       "array([9, 9, 3, 4, 4, 7, 3])"
      ]
     },
     "execution_count": 41,
     "metadata": {},
     "output_type": "execute_result"
    }
   ],
   "source": [
    "m2[m2 > 1]"
   ]
  },
  {
   "cell_type": "code",
   "execution_count": 43,
   "id": "8f1597ae",
   "metadata": {},
   "outputs": [
    {
     "data": {
      "text/plain": [
       "array([9, 9, 3, 4, 4, 1, 7, 3])"
      ]
     },
     "execution_count": 43,
     "metadata": {},
     "output_type": "execute_result"
    }
   ],
   "source": [
    "m2[m2>=1]"
   ]
  },
  {
   "cell_type": "markdown",
   "id": "2f6d5ceb",
   "metadata": {},
   "source": [
    "#np.concatenate: stacking arrays of same dimension together\n",
    "#np.vstack: similar to np.concatenate, but clearer. Stack arrays together vertically.\n",
    "#np.hstack: Stack arrays together horizontally."
   ]
  },
  {
   "cell_type": "code",
   "execution_count": 44,
   "id": "c1b0ef63",
   "metadata": {},
   "outputs": [
    {
     "data": {
      "text/plain": [
       "array([[1, 2, 3],\n",
       "       [4, 5, 6],\n",
       "       [1, 2, 3],\n",
       "       [4, 5, 6]])"
      ]
     },
     "execution_count": 44,
     "metadata": {},
     "output_type": "execute_result"
    }
   ],
   "source": [
    "grid = np.array([[1, 2, 3],\n",
    "                 [4, 5, 6]])\n",
    "np.concatenate([grid, grid])"
   ]
  },
  {
   "cell_type": "code",
   "execution_count": 45,
   "id": "7f1285b3",
   "metadata": {},
   "outputs": [
    {
     "data": {
      "text/plain": [
       "array([[1, 2, 3],\n",
       "       [4, 5, 6],\n",
       "       [2, 3, 4],\n",
       "       [5, 6, 7]])"
      ]
     },
     "execution_count": 45,
     "metadata": {},
     "output_type": "execute_result"
    }
   ],
   "source": [
    "np.vstack([grid, grid+1])"
   ]
  },
  {
   "cell_type": "code",
   "execution_count": 46,
   "id": "0196684b",
   "metadata": {},
   "outputs": [
    {
     "data": {
      "text/plain": [
       "array([[1, 2, 3, 2, 3, 4],\n",
       "       [4, 5, 6, 5, 6, 7]])"
      ]
     },
     "execution_count": 46,
     "metadata": {},
     "output_type": "execute_result"
    }
   ],
   "source": [
    "np.hstack([grid, grid+1])"
   ]
  },
  {
   "cell_type": "markdown",
   "id": "e69ce6ff",
   "metadata": {},
   "source": [
    "#Data indexing in Series"
   ]
  },
  {
   "cell_type": "code",
   "execution_count": 52,
   "id": "2a0f4671",
   "metadata": {},
   "outputs": [
    {
     "data": {
      "text/plain": [
       "a    0.25\n",
       "b    0.50\n",
       "c    0.75\n",
       "d    1.00\n",
       "dtype: float64"
      ]
     },
     "execution_count": 52,
     "metadata": {},
     "output_type": "execute_result"
    }
   ],
   "source": [
    "import pandas as pd\n",
    "s1 = pd.Series([0.25, 0.5, 0.75, 1.0],\n",
    "               index=['a', 'b', 'c', 'd'])\n",
    "s1"
   ]
  },
  {
   "cell_type": "code",
   "execution_count": 55,
   "id": "b5595fa6",
   "metadata": {},
   "outputs": [
    {
     "data": {
      "text/plain": [
       "0.75"
      ]
     },
     "execution_count": 55,
     "metadata": {},
     "output_type": "execute_result"
    }
   ],
   "source": [
    "s1['c'] "
   ]
  },
  {
   "cell_type": "code",
   "execution_count": 82,
   "id": "056ec5f3",
   "metadata": {},
   "outputs": [
    {
     "data": {
      "text/plain": [
       "a    0.25\n",
       "b    0.50\n",
       "c    0.75\n",
       "dtype: float64"
      ]
     },
     "execution_count": 82,
     "metadata": {},
     "output_type": "execute_result"
    }
   ],
   "source": [
    "# slicing by explicit index\n",
    "s1['a':'c'] "
   ]
  },
  {
   "cell_type": "code",
   "execution_count": 83,
   "id": "3b0db230",
   "metadata": {},
   "outputs": [
    {
     "data": {
      "text/plain": [
       "c    0.75\n",
       "d    1.00\n",
       "dtype: float64"
      ]
     },
     "execution_count": 83,
     "metadata": {},
     "output_type": "execute_result"
    }
   ],
   "source": [
    "s1['c':'d']"
   ]
  },
  {
   "cell_type": "code",
   "execution_count": 81,
   "id": "69de6061",
   "metadata": {},
   "outputs": [
    {
     "data": {
      "text/plain": [
       "a    0.25\n",
       "b    0.50\n",
       "dtype: float64"
      ]
     },
     "execution_count": 81,
     "metadata": {},
     "output_type": "execute_result"
    }
   ],
   "source": [
    "s1[0:2] #characters from position 0 (included) to 2 (excluded)"
   ]
  },
  {
   "cell_type": "code",
   "execution_count": 79,
   "id": "a71233d1",
   "metadata": {},
   "outputs": [
    {
     "data": {
      "text/plain": [
       "b    0.50\n",
       "c    0.75\n",
       "dtype: float64"
      ]
     },
     "execution_count": 79,
     "metadata": {},
     "output_type": "execute_result"
    }
   ],
   "source": [
    "s1[1:3]"
   ]
  },
  {
   "cell_type": "code",
   "execution_count": 56,
   "id": "61ebf26b",
   "metadata": {},
   "outputs": [
    {
     "data": {
      "text/plain": [
       "a    0.25\n",
       "b    0.50\n",
       "dtype: float64"
      ]
     },
     "execution_count": 56,
     "metadata": {},
     "output_type": "execute_result"
    }
   ],
   "source": [
    "s1[(s1 > 0.1) & (s1 <= 0.7)]"
   ]
  },
  {
   "cell_type": "code",
   "execution_count": 58,
   "id": "f81a2164",
   "metadata": {},
   "outputs": [
    {
     "data": {
      "text/plain": [
       "1.3    a\n",
       "3.0    b\n",
       "5.0    c\n",
       "dtype: object"
      ]
     },
     "execution_count": 58,
     "metadata": {},
     "output_type": "execute_result"
    }
   ],
   "source": [
    "s2 = pd.Series(['a', 'b', 'c'], index=[1.3, 3, 5])\n",
    "s2"
   ]
  },
  {
   "cell_type": "code",
   "execution_count": 60,
   "id": "23307feb",
   "metadata": {},
   "outputs": [
    {
     "data": {
      "text/plain": [
       "'b'"
      ]
     },
     "execution_count": 60,
     "metadata": {},
     "output_type": "execute_result"
    }
   ],
   "source": [
    "s2[3] #cannot be '3', this will be stored as number "
   ]
  },
  {
   "cell_type": "code",
   "execution_count": 76,
   "id": "b7fd2057",
   "metadata": {},
   "outputs": [
    {
     "data": {
      "text/plain": [
       "1.3    a\n",
       "dtype: object"
      ]
     },
     "execution_count": 76,
     "metadata": {},
     "output_type": "execute_result"
    }
   ],
   "source": [
    "s2[0:2] # characters from position 0 (included) to 2 (excluded)\n",
    "#use loc is more clear"
   ]
  },
  {
   "cell_type": "code",
   "execution_count": 84,
   "id": "07dd8857",
   "metadata": {},
   "outputs": [
    {
     "data": {
      "text/plain": [
       "1.3    a\n",
       "3.0    b\n",
       "dtype: object"
      ]
     },
     "execution_count": 84,
     "metadata": {},
     "output_type": "execute_result"
    }
   ],
   "source": [
    "s2.loc[1:3] #references the explicit index:"
   ]
  },
  {
   "cell_type": "code",
   "execution_count": 85,
   "id": "728e7fa8",
   "metadata": {},
   "outputs": [
    {
     "data": {
      "text/plain": [
       "3.0    b\n",
       "5.0    c\n",
       "dtype: object"
      ]
     },
     "execution_count": 85,
     "metadata": {},
     "output_type": "execute_result"
    }
   ],
   "source": [
    "s2.iloc[1:3] # iloc   implicit array-style/Python-style index:"
   ]
  },
  {
   "cell_type": "markdown",
   "id": "122432f8",
   "metadata": {},
   "source": [
    "#Data indexing in DataFrame"
   ]
  },
  {
   "cell_type": "code",
   "execution_count": 86,
   "id": "c17e5292",
   "metadata": {},
   "outputs": [
    {
     "data": {
      "text/html": [
       "<div>\n",
       "<style scoped>\n",
       "    .dataframe tbody tr th:only-of-type {\n",
       "        vertical-align: middle;\n",
       "    }\n",
       "\n",
       "    .dataframe tbody tr th {\n",
       "        vertical-align: top;\n",
       "    }\n",
       "\n",
       "    .dataframe thead th {\n",
       "        text-align: right;\n",
       "    }\n",
       "</style>\n",
       "<table border=\"1\" class=\"dataframe\">\n",
       "  <thead>\n",
       "    <tr style=\"text-align: right;\">\n",
       "      <th></th>\n",
       "      <th>DBN</th>\n",
       "      <th>Quality_Review_Score</th>\n",
       "      <th>Progress_Rpt_10-11</th>\n",
       "      <th>Student_Progress_10-11</th>\n",
       "      <th>graduation 2010-11</th>\n",
       "      <th>college enroll 2010-11</th>\n",
       "    </tr>\n",
       "  </thead>\n",
       "  <tbody>\n",
       "    <tr>\n",
       "      <th>0</th>\n",
       "      <td>01M292</td>\n",
       "      <td>Developing</td>\n",
       "      <td>C</td>\n",
       "      <td>C</td>\n",
       "      <td>0.563</td>\n",
       "      <td>0.519</td>\n",
       "    </tr>\n",
       "    <tr>\n",
       "      <th>1</th>\n",
       "      <td>01M448</td>\n",
       "      <td>Developing</td>\n",
       "      <td>C</td>\n",
       "      <td>B</td>\n",
       "      <td>0.707</td>\n",
       "      <td>0.363</td>\n",
       "    </tr>\n",
       "    <tr>\n",
       "      <th>2</th>\n",
       "      <td>01M450</td>\n",
       "      <td>Well Developed</td>\n",
       "      <td>A</td>\n",
       "      <td>B</td>\n",
       "      <td>0.716</td>\n",
       "      <td>0.692</td>\n",
       "    </tr>\n",
       "    <tr>\n",
       "      <th>3</th>\n",
       "      <td>01M509</td>\n",
       "      <td>Proficient</td>\n",
       "      <td>C</td>\n",
       "      <td>C</td>\n",
       "      <td>0.564</td>\n",
       "      <td>0.477</td>\n",
       "    </tr>\n",
       "    <tr>\n",
       "      <th>4</th>\n",
       "      <td>01M539</td>\n",
       "      <td>Proficient</td>\n",
       "      <td>A</td>\n",
       "      <td>A</td>\n",
       "      <td>0.953</td>\n",
       "      <td>0.870</td>\n",
       "    </tr>\n",
       "    <tr>\n",
       "      <th>...</th>\n",
       "      <td>...</td>\n",
       "      <td>...</td>\n",
       "      <td>...</td>\n",
       "      <td>...</td>\n",
       "      <td>...</td>\n",
       "      <td>...</td>\n",
       "    </tr>\n",
       "    <tr>\n",
       "      <th>417</th>\n",
       "      <td>10X696</td>\n",
       "      <td>Well Developed</td>\n",
       "      <td>A</td>\n",
       "      <td>A</td>\n",
       "      <td>1.000</td>\n",
       "      <td>0.936</td>\n",
       "    </tr>\n",
       "    <tr>\n",
       "      <th>418</th>\n",
       "      <td>13K430</td>\n",
       "      <td>Proficient</td>\n",
       "      <td>B</td>\n",
       "      <td>B</td>\n",
       "      <td>0.977</td>\n",
       "      <td>0.867</td>\n",
       "    </tr>\n",
       "    <tr>\n",
       "      <th>419</th>\n",
       "      <td>10X445</td>\n",
       "      <td>Well Developed</td>\n",
       "      <td>A</td>\n",
       "      <td>A</td>\n",
       "      <td>1.000</td>\n",
       "      <td>0.994</td>\n",
       "    </tr>\n",
       "    <tr>\n",
       "      <th>420</th>\n",
       "      <td>14K449</td>\n",
       "      <td>Well Developed</td>\n",
       "      <td>B</td>\n",
       "      <td>B</td>\n",
       "      <td>0.914</td>\n",
       "      <td>0.961</td>\n",
       "    </tr>\n",
       "    <tr>\n",
       "      <th>421</th>\n",
       "      <td>28Q687</td>\n",
       "      <td>Proficient</td>\n",
       "      <td>A</td>\n",
       "      <td>B</td>\n",
       "      <td>1.000</td>\n",
       "      <td>0.972</td>\n",
       "    </tr>\n",
       "  </tbody>\n",
       "</table>\n",
       "<p>422 rows × 6 columns</p>\n",
       "</div>"
      ],
      "text/plain": [
       "        DBN Quality_Review_Score Progress_Rpt_10-11 Student_Progress_10-11  \\\n",
       "0    01M292           Developing                  C                      C   \n",
       "1    01M448           Developing                  C                      B   \n",
       "2    01M450       Well Developed                  A                      B   \n",
       "3    01M509           Proficient                  C                      C   \n",
       "4    01M539           Proficient                  A                      A   \n",
       "..      ...                  ...                ...                    ...   \n",
       "417  10X696       Well Developed                  A                      A   \n",
       "418  13K430           Proficient                  B                      B   \n",
       "419  10X445       Well Developed                  A                      A   \n",
       "420  14K449       Well Developed                  B                      B   \n",
       "421  28Q687           Proficient                  A                      B   \n",
       "\n",
       "     graduation 2010-11  college enroll 2010-11  \n",
       "0                 0.563                   0.519  \n",
       "1                 0.707                   0.363  \n",
       "2                 0.716                   0.692  \n",
       "3                 0.564                   0.477  \n",
       "4                 0.953                   0.870  \n",
       "..                  ...                     ...  \n",
       "417               1.000                   0.936  \n",
       "418               0.977                   0.867  \n",
       "419               1.000                   0.994  \n",
       "420               0.914                   0.961  \n",
       "421               1.000                   0.972  \n",
       "\n",
       "[422 rows x 6 columns]"
      ]
     },
     "execution_count": 86,
     "metadata": {},
     "output_type": "execute_result"
    }
   ],
   "source": [
    "ICEdata = pd.read_csv(\"ICE1_Data.csv\")\n",
    "\n",
    "ICEdata"
   ]
  },
  {
   "cell_type": "code",
   "execution_count": 87,
   "id": "f66f0602",
   "metadata": {},
   "outputs": [
    {
     "data": {
      "text/plain": [
       "0          Developing\n",
       "1          Developing\n",
       "2      Well Developed\n",
       "3          Proficient\n",
       "4          Proficient\n",
       "            ...      \n",
       "417    Well Developed\n",
       "418        Proficient\n",
       "419    Well Developed\n",
       "420    Well Developed\n",
       "421        Proficient\n",
       "Name: Quality_Review_Score, Length: 422, dtype: object"
      ]
     },
     "execution_count": 87,
     "metadata": {},
     "output_type": "execute_result"
    }
   ],
   "source": [
    "ICEdata['Quality_Review_Score']"
   ]
  },
  {
   "cell_type": "markdown",
   "id": "9165a8db",
   "metadata": {},
   "source": [
    "#Creating new columns"
   ]
  },
  {
   "cell_type": "code",
   "execution_count": 90,
   "id": "f31da7a7",
   "metadata": {},
   "outputs": [
    {
     "data": {
      "text/html": [
       "<div>\n",
       "<style scoped>\n",
       "    .dataframe tbody tr th:only-of-type {\n",
       "        vertical-align: middle;\n",
       "    }\n",
       "\n",
       "    .dataframe tbody tr th {\n",
       "        vertical-align: top;\n",
       "    }\n",
       "\n",
       "    .dataframe thead th {\n",
       "        text-align: right;\n",
       "    }\n",
       "</style>\n",
       "<table border=\"1\" class=\"dataframe\">\n",
       "  <thead>\n",
       "    <tr style=\"text-align: right;\">\n",
       "      <th></th>\n",
       "      <th>DBN</th>\n",
       "      <th>Quality_Review_Score</th>\n",
       "      <th>Progress_Rpt_10-11</th>\n",
       "      <th>Student_Progress_10-11</th>\n",
       "      <th>graduation 2010-11</th>\n",
       "      <th>college enroll 2010-11</th>\n",
       "      <th>collegeRate</th>\n",
       "    </tr>\n",
       "  </thead>\n",
       "  <tbody>\n",
       "    <tr>\n",
       "      <th>0</th>\n",
       "      <td>01M292</td>\n",
       "      <td>Developing</td>\n",
       "      <td>C</td>\n",
       "      <td>C</td>\n",
       "      <td>0.563</td>\n",
       "      <td>0.519</td>\n",
       "      <td>0.921847</td>\n",
       "    </tr>\n",
       "    <tr>\n",
       "      <th>1</th>\n",
       "      <td>01M448</td>\n",
       "      <td>Developing</td>\n",
       "      <td>C</td>\n",
       "      <td>B</td>\n",
       "      <td>0.707</td>\n",
       "      <td>0.363</td>\n",
       "      <td>0.513437</td>\n",
       "    </tr>\n",
       "    <tr>\n",
       "      <th>2</th>\n",
       "      <td>01M450</td>\n",
       "      <td>Well Developed</td>\n",
       "      <td>A</td>\n",
       "      <td>B</td>\n",
       "      <td>0.716</td>\n",
       "      <td>0.692</td>\n",
       "      <td>0.966480</td>\n",
       "    </tr>\n",
       "    <tr>\n",
       "      <th>3</th>\n",
       "      <td>01M509</td>\n",
       "      <td>Proficient</td>\n",
       "      <td>C</td>\n",
       "      <td>C</td>\n",
       "      <td>0.564</td>\n",
       "      <td>0.477</td>\n",
       "      <td>0.845745</td>\n",
       "    </tr>\n",
       "    <tr>\n",
       "      <th>4</th>\n",
       "      <td>01M539</td>\n",
       "      <td>Proficient</td>\n",
       "      <td>A</td>\n",
       "      <td>A</td>\n",
       "      <td>0.953</td>\n",
       "      <td>0.870</td>\n",
       "      <td>0.912907</td>\n",
       "    </tr>\n",
       "    <tr>\n",
       "      <th>...</th>\n",
       "      <td>...</td>\n",
       "      <td>...</td>\n",
       "      <td>...</td>\n",
       "      <td>...</td>\n",
       "      <td>...</td>\n",
       "      <td>...</td>\n",
       "      <td>...</td>\n",
       "    </tr>\n",
       "    <tr>\n",
       "      <th>417</th>\n",
       "      <td>10X696</td>\n",
       "      <td>Well Developed</td>\n",
       "      <td>A</td>\n",
       "      <td>A</td>\n",
       "      <td>1.000</td>\n",
       "      <td>0.936</td>\n",
       "      <td>0.936000</td>\n",
       "    </tr>\n",
       "    <tr>\n",
       "      <th>418</th>\n",
       "      <td>13K430</td>\n",
       "      <td>Proficient</td>\n",
       "      <td>B</td>\n",
       "      <td>B</td>\n",
       "      <td>0.977</td>\n",
       "      <td>0.867</td>\n",
       "      <td>0.887410</td>\n",
       "    </tr>\n",
       "    <tr>\n",
       "      <th>419</th>\n",
       "      <td>10X445</td>\n",
       "      <td>Well Developed</td>\n",
       "      <td>A</td>\n",
       "      <td>A</td>\n",
       "      <td>1.000</td>\n",
       "      <td>0.994</td>\n",
       "      <td>0.994000</td>\n",
       "    </tr>\n",
       "    <tr>\n",
       "      <th>420</th>\n",
       "      <td>14K449</td>\n",
       "      <td>Well Developed</td>\n",
       "      <td>B</td>\n",
       "      <td>B</td>\n",
       "      <td>0.914</td>\n",
       "      <td>0.961</td>\n",
       "      <td>1.051422</td>\n",
       "    </tr>\n",
       "    <tr>\n",
       "      <th>421</th>\n",
       "      <td>28Q687</td>\n",
       "      <td>Proficient</td>\n",
       "      <td>A</td>\n",
       "      <td>B</td>\n",
       "      <td>1.000</td>\n",
       "      <td>0.972</td>\n",
       "      <td>0.972000</td>\n",
       "    </tr>\n",
       "  </tbody>\n",
       "</table>\n",
       "<p>422 rows × 7 columns</p>\n",
       "</div>"
      ],
      "text/plain": [
       "        DBN Quality_Review_Score Progress_Rpt_10-11 Student_Progress_10-11  \\\n",
       "0    01M292           Developing                  C                      C   \n",
       "1    01M448           Developing                  C                      B   \n",
       "2    01M450       Well Developed                  A                      B   \n",
       "3    01M509           Proficient                  C                      C   \n",
       "4    01M539           Proficient                  A                      A   \n",
       "..      ...                  ...                ...                    ...   \n",
       "417  10X696       Well Developed                  A                      A   \n",
       "418  13K430           Proficient                  B                      B   \n",
       "419  10X445       Well Developed                  A                      A   \n",
       "420  14K449       Well Developed                  B                      B   \n",
       "421  28Q687           Proficient                  A                      B   \n",
       "\n",
       "     graduation 2010-11  college enroll 2010-11  collegeRate  \n",
       "0                 0.563                   0.519     0.921847  \n",
       "1                 0.707                   0.363     0.513437  \n",
       "2                 0.716                   0.692     0.966480  \n",
       "3                 0.564                   0.477     0.845745  \n",
       "4                 0.953                   0.870     0.912907  \n",
       "..                  ...                     ...          ...  \n",
       "417               1.000                   0.936     0.936000  \n",
       "418               0.977                   0.867     0.887410  \n",
       "419               1.000                   0.994     0.994000  \n",
       "420               0.914                   0.961     1.051422  \n",
       "421               1.000                   0.972     0.972000  \n",
       "\n",
       "[422 rows x 7 columns]"
      ]
     },
     "execution_count": 90,
     "metadata": {},
     "output_type": "execute_result"
    }
   ],
   "source": [
    "# create collegeRate=Dividing College enroll rate by graduation rate:     \n",
    "ICEdata['collegeRate']=ICEdata['college enroll 2010-11']/ICEdata['graduation 2010-11']\n",
    "ICEdata"
   ]
  },
  {
   "cell_type": "code",
   "execution_count": 95,
   "id": "ba984c0d",
   "metadata": {},
   "outputs": [
    {
     "data": {
      "text/plain": [
       "DBN                           01M292\n",
       "Quality_Review_Score      Developing\n",
       "Progress_Rpt_10-11                 C\n",
       "Student_Progress_10-11             C\n",
       "graduation 2010-11             0.563\n",
       "college enroll 2010-11         0.519\n",
       "collegeRate                 0.921847\n",
       "Name: 0, dtype: object"
      ]
     },
     "execution_count": 95,
     "metadata": {},
     "output_type": "execute_result"
    }
   ],
   "source": [
    "ICEdata.loc[0] # first row"
   ]
  },
  {
   "cell_type": "code",
   "execution_count": 94,
   "id": "e142ebb0",
   "metadata": {},
   "outputs": [
    {
     "data": {
      "text/html": [
       "<div>\n",
       "<style scoped>\n",
       "    .dataframe tbody tr th:only-of-type {\n",
       "        vertical-align: middle;\n",
       "    }\n",
       "\n",
       "    .dataframe tbody tr th {\n",
       "        vertical-align: top;\n",
       "    }\n",
       "\n",
       "    .dataframe thead th {\n",
       "        text-align: right;\n",
       "    }\n",
       "</style>\n",
       "<table border=\"1\" class=\"dataframe\">\n",
       "  <thead>\n",
       "    <tr style=\"text-align: right;\">\n",
       "      <th></th>\n",
       "      <th>DBN</th>\n",
       "      <th>Quality_Review_Score</th>\n",
       "      <th>Progress_Rpt_10-11</th>\n",
       "      <th>Student_Progress_10-11</th>\n",
       "      <th>graduation 2010-11</th>\n",
       "      <th>college enroll 2010-11</th>\n",
       "      <th>collegeRate</th>\n",
       "    </tr>\n",
       "  </thead>\n",
       "  <tbody>\n",
       "    <tr>\n",
       "      <th>0</th>\n",
       "      <td>01M292</td>\n",
       "      <td>Developing</td>\n",
       "      <td>C</td>\n",
       "      <td>C</td>\n",
       "      <td>0.563</td>\n",
       "      <td>0.519</td>\n",
       "      <td>0.921847</td>\n",
       "    </tr>\n",
       "    <tr>\n",
       "      <th>1</th>\n",
       "      <td>01M448</td>\n",
       "      <td>Developing</td>\n",
       "      <td>C</td>\n",
       "      <td>B</td>\n",
       "      <td>0.707</td>\n",
       "      <td>0.363</td>\n",
       "      <td>0.513437</td>\n",
       "    </tr>\n",
       "    <tr>\n",
       "      <th>2</th>\n",
       "      <td>01M450</td>\n",
       "      <td>Well Developed</td>\n",
       "      <td>A</td>\n",
       "      <td>B</td>\n",
       "      <td>0.716</td>\n",
       "      <td>0.692</td>\n",
       "      <td>0.966480</td>\n",
       "    </tr>\n",
       "    <tr>\n",
       "      <th>3</th>\n",
       "      <td>01M509</td>\n",
       "      <td>Proficient</td>\n",
       "      <td>C</td>\n",
       "      <td>C</td>\n",
       "      <td>0.564</td>\n",
       "      <td>0.477</td>\n",
       "      <td>0.845745</td>\n",
       "    </tr>\n",
       "  </tbody>\n",
       "</table>\n",
       "</div>"
      ],
      "text/plain": [
       "      DBN Quality_Review_Score Progress_Rpt_10-11 Student_Progress_10-11  \\\n",
       "0  01M292           Developing                  C                      C   \n",
       "1  01M448           Developing                  C                      B   \n",
       "2  01M450       Well Developed                  A                      B   \n",
       "3  01M509           Proficient                  C                      C   \n",
       "\n",
       "   graduation 2010-11  college enroll 2010-11  collegeRate  \n",
       "0               0.563                   0.519     0.921847  \n",
       "1               0.707                   0.363     0.513437  \n",
       "2               0.716                   0.692     0.966480  \n",
       "3               0.564                   0.477     0.845745  "
      ]
     },
     "execution_count": 94,
     "metadata": {},
     "output_type": "execute_result"
    }
   ],
   "source": [
    "ICEdata.loc[:3] # frist row to thrid row "
   ]
  },
  {
   "cell_type": "code",
   "execution_count": 92,
   "id": "48c25f84",
   "metadata": {},
   "outputs": [
    {
     "data": {
      "text/html": [
       "<div>\n",
       "<style scoped>\n",
       "    .dataframe tbody tr th:only-of-type {\n",
       "        vertical-align: middle;\n",
       "    }\n",
       "\n",
       "    .dataframe tbody tr th {\n",
       "        vertical-align: top;\n",
       "    }\n",
       "\n",
       "    .dataframe thead th {\n",
       "        text-align: right;\n",
       "    }\n",
       "</style>\n",
       "<table border=\"1\" class=\"dataframe\">\n",
       "  <thead>\n",
       "    <tr style=\"text-align: right;\">\n",
       "      <th></th>\n",
       "      <th>DBN</th>\n",
       "      <th>Quality_Review_Score</th>\n",
       "    </tr>\n",
       "  </thead>\n",
       "  <tbody>\n",
       "    <tr>\n",
       "      <th>0</th>\n",
       "      <td>01M292</td>\n",
       "      <td>Developing</td>\n",
       "    </tr>\n",
       "    <tr>\n",
       "      <th>1</th>\n",
       "      <td>01M448</td>\n",
       "      <td>Developing</td>\n",
       "    </tr>\n",
       "    <tr>\n",
       "      <th>2</th>\n",
       "      <td>01M450</td>\n",
       "      <td>Well Developed</td>\n",
       "    </tr>\n",
       "  </tbody>\n",
       "</table>\n",
       "</div>"
      ],
      "text/plain": [
       "      DBN Quality_Review_Score\n",
       "0  01M292           Developing\n",
       "1  01M448           Developing\n",
       "2  01M450       Well Developed"
      ]
     },
     "execution_count": 92,
     "metadata": {},
     "output_type": "execute_result"
    }
   ],
   "source": [
    "ICEdata.iloc[:3, :2]"
   ]
  },
  {
   "cell_type": "code",
   "execution_count": 97,
   "id": "04bf4743",
   "metadata": {},
   "outputs": [
    {
     "data": {
      "text/html": [
       "<div>\n",
       "<style scoped>\n",
       "    .dataframe tbody tr th:only-of-type {\n",
       "        vertical-align: middle;\n",
       "    }\n",
       "\n",
       "    .dataframe tbody tr th {\n",
       "        vertical-align: top;\n",
       "    }\n",
       "\n",
       "    .dataframe thead th {\n",
       "        text-align: right;\n",
       "    }\n",
       "</style>\n",
       "<table border=\"1\" class=\"dataframe\">\n",
       "  <thead>\n",
       "    <tr style=\"text-align: right;\">\n",
       "      <th></th>\n",
       "      <th>DBN</th>\n",
       "      <th>Quality_Review_Score</th>\n",
       "      <th>Progress_Rpt_10-11</th>\n",
       "    </tr>\n",
       "  </thead>\n",
       "  <tbody>\n",
       "    <tr>\n",
       "      <th>0</th>\n",
       "      <td>01M292</td>\n",
       "      <td>Developing</td>\n",
       "      <td>C</td>\n",
       "    </tr>\n",
       "    <tr>\n",
       "      <th>1</th>\n",
       "      <td>01M448</td>\n",
       "      <td>Developing</td>\n",
       "      <td>C</td>\n",
       "    </tr>\n",
       "    <tr>\n",
       "      <th>2</th>\n",
       "      <td>01M450</td>\n",
       "      <td>Well Developed</td>\n",
       "      <td>A</td>\n",
       "    </tr>\n",
       "    <tr>\n",
       "      <th>3</th>\n",
       "      <td>01M509</td>\n",
       "      <td>Proficient</td>\n",
       "      <td>C</td>\n",
       "    </tr>\n",
       "    <tr>\n",
       "      <th>4</th>\n",
       "      <td>01M539</td>\n",
       "      <td>Proficient</td>\n",
       "      <td>A</td>\n",
       "    </tr>\n",
       "    <tr>\n",
       "      <th>5</th>\n",
       "      <td>01M696</td>\n",
       "      <td>Well Developed</td>\n",
       "      <td>B</td>\n",
       "    </tr>\n",
       "    <tr>\n",
       "      <th>6</th>\n",
       "      <td>02M047</td>\n",
       "      <td>Proficient</td>\n",
       "      <td>C</td>\n",
       "    </tr>\n",
       "    <tr>\n",
       "      <th>7</th>\n",
       "      <td>02M288</td>\n",
       "      <td>Proficient</td>\n",
       "      <td>A</td>\n",
       "    </tr>\n",
       "  </tbody>\n",
       "</table>\n",
       "</div>"
      ],
      "text/plain": [
       "      DBN Quality_Review_Score Progress_Rpt_10-11\n",
       "0  01M292           Developing                  C\n",
       "1  01M448           Developing                  C\n",
       "2  01M450       Well Developed                  A\n",
       "3  01M509           Proficient                  C\n",
       "4  01M539           Proficient                  A\n",
       "5  01M696       Well Developed                  B\n",
       "6  02M047           Proficient                  C\n",
       "7  02M288           Proficient                  A"
      ]
     },
     "execution_count": 97,
     "metadata": {},
     "output_type": "execute_result"
    }
   ],
   "source": [
    "ICEdata.loc[:7, :'Progress_Rpt_10-11']"
   ]
  },
  {
   "cell_type": "code",
   "execution_count": 98,
   "id": "824458ab",
   "metadata": {},
   "outputs": [
    {
     "data": {
      "text/html": [
       "<div>\n",
       "<style scoped>\n",
       "    .dataframe tbody tr th:only-of-type {\n",
       "        vertical-align: middle;\n",
       "    }\n",
       "\n",
       "    .dataframe tbody tr th {\n",
       "        vertical-align: top;\n",
       "    }\n",
       "\n",
       "    .dataframe thead th {\n",
       "        text-align: right;\n",
       "    }\n",
       "</style>\n",
       "<table border=\"1\" class=\"dataframe\">\n",
       "  <thead>\n",
       "    <tr style=\"text-align: right;\">\n",
       "      <th></th>\n",
       "      <th>DBN</th>\n",
       "      <th>Quality_Review_Score</th>\n",
       "      <th>Progress_Rpt_10-11</th>\n",
       "      <th>Student_Progress_10-11</th>\n",
       "      <th>graduation 2010-11</th>\n",
       "      <th>college enroll 2010-11</th>\n",
       "      <th>collegeRate</th>\n",
       "    </tr>\n",
       "  </thead>\n",
       "  <tbody>\n",
       "    <tr>\n",
       "      <th>4</th>\n",
       "      <td>01M539</td>\n",
       "      <td>Proficient</td>\n",
       "      <td>A</td>\n",
       "      <td>A</td>\n",
       "      <td>0.953</td>\n",
       "      <td>0.870</td>\n",
       "      <td>0.912907</td>\n",
       "    </tr>\n",
       "    <tr>\n",
       "      <th>5</th>\n",
       "      <td>01M696</td>\n",
       "      <td>Well Developed</td>\n",
       "      <td>B</td>\n",
       "      <td>C</td>\n",
       "      <td>0.976</td>\n",
       "      <td>0.957</td>\n",
       "      <td>0.980533</td>\n",
       "    </tr>\n",
       "    <tr>\n",
       "      <th>7</th>\n",
       "      <td>02M288</td>\n",
       "      <td>Proficient</td>\n",
       "      <td>A</td>\n",
       "      <td>B</td>\n",
       "      <td>0.820</td>\n",
       "      <td>0.627</td>\n",
       "      <td>0.764634</td>\n",
       "    </tr>\n",
       "    <tr>\n",
       "      <th>9</th>\n",
       "      <td>02M296</td>\n",
       "      <td>Proficient</td>\n",
       "      <td>A</td>\n",
       "      <td>A</td>\n",
       "      <td>0.793</td>\n",
       "      <td>0.560</td>\n",
       "      <td>0.706179</td>\n",
       "    </tr>\n",
       "    <tr>\n",
       "      <th>10</th>\n",
       "      <td>02M298</td>\n",
       "      <td>Well Developed</td>\n",
       "      <td>A</td>\n",
       "      <td>A</td>\n",
       "      <td>0.915</td>\n",
       "      <td>0.796</td>\n",
       "      <td>0.869945</td>\n",
       "    </tr>\n",
       "    <tr>\n",
       "      <th>...</th>\n",
       "      <td>...</td>\n",
       "      <td>...</td>\n",
       "      <td>...</td>\n",
       "      <td>...</td>\n",
       "      <td>...</td>\n",
       "      <td>...</td>\n",
       "      <td>...</td>\n",
       "    </tr>\n",
       "    <tr>\n",
       "      <th>417</th>\n",
       "      <td>10X696</td>\n",
       "      <td>Well Developed</td>\n",
       "      <td>A</td>\n",
       "      <td>A</td>\n",
       "      <td>1.000</td>\n",
       "      <td>0.936</td>\n",
       "      <td>0.936000</td>\n",
       "    </tr>\n",
       "    <tr>\n",
       "      <th>418</th>\n",
       "      <td>13K430</td>\n",
       "      <td>Proficient</td>\n",
       "      <td>B</td>\n",
       "      <td>B</td>\n",
       "      <td>0.977</td>\n",
       "      <td>0.867</td>\n",
       "      <td>0.887410</td>\n",
       "    </tr>\n",
       "    <tr>\n",
       "      <th>419</th>\n",
       "      <td>10X445</td>\n",
       "      <td>Well Developed</td>\n",
       "      <td>A</td>\n",
       "      <td>A</td>\n",
       "      <td>1.000</td>\n",
       "      <td>0.994</td>\n",
       "      <td>0.994000</td>\n",
       "    </tr>\n",
       "    <tr>\n",
       "      <th>420</th>\n",
       "      <td>14K449</td>\n",
       "      <td>Well Developed</td>\n",
       "      <td>B</td>\n",
       "      <td>B</td>\n",
       "      <td>0.914</td>\n",
       "      <td>0.961</td>\n",
       "      <td>1.051422</td>\n",
       "    </tr>\n",
       "    <tr>\n",
       "      <th>421</th>\n",
       "      <td>28Q687</td>\n",
       "      <td>Proficient</td>\n",
       "      <td>A</td>\n",
       "      <td>B</td>\n",
       "      <td>1.000</td>\n",
       "      <td>0.972</td>\n",
       "      <td>0.972000</td>\n",
       "    </tr>\n",
       "  </tbody>\n",
       "</table>\n",
       "<p>135 rows × 7 columns</p>\n",
       "</div>"
      ],
      "text/plain": [
       "        DBN Quality_Review_Score Progress_Rpt_10-11 Student_Progress_10-11  \\\n",
       "4    01M539           Proficient                  A                      A   \n",
       "5    01M696       Well Developed                  B                      C   \n",
       "7    02M288           Proficient                  A                      B   \n",
       "9    02M296           Proficient                  A                      A   \n",
       "10   02M298       Well Developed                  A                      A   \n",
       "..      ...                  ...                ...                    ...   \n",
       "417  10X696       Well Developed                  A                      A   \n",
       "418  13K430           Proficient                  B                      B   \n",
       "419  10X445       Well Developed                  A                      A   \n",
       "420  14K449       Well Developed                  B                      B   \n",
       "421  28Q687           Proficient                  A                      B   \n",
       "\n",
       "     graduation 2010-11  college enroll 2010-11  collegeRate  \n",
       "4                 0.953                   0.870     0.912907  \n",
       "5                 0.976                   0.957     0.980533  \n",
       "7                 0.820                   0.627     0.764634  \n",
       "9                 0.793                   0.560     0.706179  \n",
       "10                0.915                   0.796     0.869945  \n",
       "..                  ...                     ...          ...  \n",
       "417               1.000                   0.936     0.936000  \n",
       "418               0.977                   0.867     0.887410  \n",
       "419               1.000                   0.994     0.994000  \n",
       "420               0.914                   0.961     1.051422  \n",
       "421               1.000                   0.972     0.972000  \n",
       "\n",
       "[135 rows x 7 columns]"
      ]
     },
     "execution_count": 98,
     "metadata": {},
     "output_type": "execute_result"
    }
   ],
   "source": [
    "ICEdata[ICEdata['graduation 2010-11'] > 0.75]"
   ]
  },
  {
   "cell_type": "markdown",
   "id": "58892982",
   "metadata": {},
   "source": [
    "#Data masking"
   ]
  },
  {
   "cell_type": "code",
   "execution_count": 99,
   "id": "33248a44",
   "metadata": {},
   "outputs": [
    {
     "data": {
      "text/plain": [
       "array([[9, 0, 0, 9],\n",
       "       [3, 4, 0, 0],\n",
       "       [4, 1, 7, 3]])"
      ]
     },
     "execution_count": 99,
     "metadata": {},
     "output_type": "execute_result"
    }
   ],
   "source": [
    "m2"
   ]
  },
  {
   "cell_type": "code",
   "execution_count": 100,
   "id": "34138f5d",
   "metadata": {},
   "outputs": [
    {
     "data": {
      "text/plain": [
       "array([9, 9, 3, 4, 4, 7, 3])"
      ]
     },
     "execution_count": 100,
     "metadata": {},
     "output_type": "execute_result"
    }
   ],
   "source": [
    "m2[m2>=3]"
   ]
  },
  {
   "cell_type": "code",
   "execution_count": 101,
   "id": "2d8032b9",
   "metadata": {},
   "outputs": [
    {
     "data": {
      "text/plain": [
       "array([[False,  True,  True, False],\n",
       "       [False, False,  True,  True],\n",
       "       [False,  True, False, False]])"
      ]
     },
     "execution_count": 101,
     "metadata": {},
     "output_type": "execute_result"
    }
   ],
   "source": [
    "m2 < 2"
   ]
  },
  {
   "cell_type": "code",
   "execution_count": null,
   "id": "34628819",
   "metadata": {},
   "outputs": [],
   "source": [
    "# & (and), | (or) , ^ (exclusive or), and ~(not)."
   ]
  },
  {
   "cell_type": "code",
   "execution_count": 102,
   "id": "dfdd3f3e",
   "metadata": {},
   "outputs": [
    {
     "data": {
      "text/plain": [
       "array([3, 4, 4, 3])"
      ]
     },
     "execution_count": 102,
     "metadata": {},
     "output_type": "execute_result"
    }
   ],
   "source": [
    "mask = (m2 > 2) & (m2 <5) \n",
    "m2[mask]"
   ]
  },
  {
   "cell_type": "code",
   "execution_count": 103,
   "id": "83e74969",
   "metadata": {},
   "outputs": [
    {
     "data": {
      "text/plain": [
       "array([9, 0, 0, 9, 3, 4, 0, 0, 4, 1, 7, 3])"
      ]
     },
     "execution_count": 103,
     "metadata": {},
     "output_type": "execute_result"
    }
   ],
   "source": [
    "mask = (m2 > 2) | (m2 <5) \n",
    "m2[mask]"
   ]
  },
  {
   "cell_type": "code",
   "execution_count": 113,
   "id": "13a897b8",
   "metadata": {},
   "outputs": [
    {
     "data": {
      "text/plain": [
       "array([9, 0, 0, 9, 0, 0, 1, 7])"
      ]
     },
     "execution_count": 113,
     "metadata": {},
     "output_type": "execute_result"
    }
   ],
   "source": [
    "mask = (m2 > 2) ^ (m2 <5) \n",
    "m2[mask]"
   ]
  },
  {
   "cell_type": "code",
   "execution_count": 111,
   "id": "4f8214cd",
   "metadata": {},
   "outputs": [
    {
     "data": {
      "text/html": [
       "<div>\n",
       "<style scoped>\n",
       "    .dataframe tbody tr th:only-of-type {\n",
       "        vertical-align: middle;\n",
       "    }\n",
       "\n",
       "    .dataframe tbody tr th {\n",
       "        vertical-align: top;\n",
       "    }\n",
       "\n",
       "    .dataframe thead th {\n",
       "        text-align: right;\n",
       "    }\n",
       "</style>\n",
       "<table border=\"1\" class=\"dataframe\">\n",
       "  <thead>\n",
       "    <tr style=\"text-align: right;\">\n",
       "      <th></th>\n",
       "      <th>DBN</th>\n",
       "      <th>Quality_Review_Score</th>\n",
       "      <th>Progress_Rpt_10-11</th>\n",
       "      <th>Student_Progress_10-11</th>\n",
       "      <th>graduation 2010-11</th>\n",
       "      <th>college enroll 2010-11</th>\n",
       "      <th>collegeRate</th>\n",
       "    </tr>\n",
       "  </thead>\n",
       "  <tbody>\n",
       "    <tr>\n",
       "      <th>4</th>\n",
       "      <td>01M539</td>\n",
       "      <td>Proficient</td>\n",
       "      <td>A</td>\n",
       "      <td>A</td>\n",
       "      <td>0.953</td>\n",
       "      <td>0.870</td>\n",
       "      <td>0.912907</td>\n",
       "    </tr>\n",
       "    <tr>\n",
       "      <th>7</th>\n",
       "      <td>02M288</td>\n",
       "      <td>Proficient</td>\n",
       "      <td>A</td>\n",
       "      <td>B</td>\n",
       "      <td>0.820</td>\n",
       "      <td>0.627</td>\n",
       "      <td>0.764634</td>\n",
       "    </tr>\n",
       "    <tr>\n",
       "      <th>9</th>\n",
       "      <td>02M296</td>\n",
       "      <td>Proficient</td>\n",
       "      <td>A</td>\n",
       "      <td>A</td>\n",
       "      <td>0.793</td>\n",
       "      <td>0.560</td>\n",
       "      <td>0.706179</td>\n",
       "    </tr>\n",
       "    <tr>\n",
       "      <th>10</th>\n",
       "      <td>02M298</td>\n",
       "      <td>Well Developed</td>\n",
       "      <td>A</td>\n",
       "      <td>A</td>\n",
       "      <td>0.915</td>\n",
       "      <td>0.796</td>\n",
       "      <td>0.869945</td>\n",
       "    </tr>\n",
       "    <tr>\n",
       "      <th>14</th>\n",
       "      <td>02M308</td>\n",
       "      <td>Well Developed</td>\n",
       "      <td>A</td>\n",
       "      <td>A</td>\n",
       "      <td>0.762</td>\n",
       "      <td>0.478</td>\n",
       "      <td>0.627297</td>\n",
       "    </tr>\n",
       "    <tr>\n",
       "      <th>...</th>\n",
       "      <td>...</td>\n",
       "      <td>...</td>\n",
       "      <td>...</td>\n",
       "      <td>...</td>\n",
       "      <td>...</td>\n",
       "      <td>...</td>\n",
       "      <td>...</td>\n",
       "    </tr>\n",
       "    <tr>\n",
       "      <th>415</th>\n",
       "      <td>02M475</td>\n",
       "      <td>Well Developed</td>\n",
       "      <td>A</td>\n",
       "      <td>B</td>\n",
       "      <td>0.985</td>\n",
       "      <td>0.854</td>\n",
       "      <td>0.867005</td>\n",
       "    </tr>\n",
       "    <tr>\n",
       "      <th>416</th>\n",
       "      <td>05M692</td>\n",
       "      <td>Well Developed</td>\n",
       "      <td>A</td>\n",
       "      <td>B</td>\n",
       "      <td>0.982</td>\n",
       "      <td>0.934</td>\n",
       "      <td>0.951120</td>\n",
       "    </tr>\n",
       "    <tr>\n",
       "      <th>417</th>\n",
       "      <td>10X696</td>\n",
       "      <td>Well Developed</td>\n",
       "      <td>A</td>\n",
       "      <td>A</td>\n",
       "      <td>1.000</td>\n",
       "      <td>0.936</td>\n",
       "      <td>0.936000</td>\n",
       "    </tr>\n",
       "    <tr>\n",
       "      <th>419</th>\n",
       "      <td>10X445</td>\n",
       "      <td>Well Developed</td>\n",
       "      <td>A</td>\n",
       "      <td>A</td>\n",
       "      <td>1.000</td>\n",
       "      <td>0.994</td>\n",
       "      <td>0.994000</td>\n",
       "    </tr>\n",
       "    <tr>\n",
       "      <th>421</th>\n",
       "      <td>28Q687</td>\n",
       "      <td>Proficient</td>\n",
       "      <td>A</td>\n",
       "      <td>B</td>\n",
       "      <td>1.000</td>\n",
       "      <td>0.972</td>\n",
       "      <td>0.972000</td>\n",
       "    </tr>\n",
       "  </tbody>\n",
       "</table>\n",
       "<p>79 rows × 7 columns</p>\n",
       "</div>"
      ],
      "text/plain": [
       "        DBN Quality_Review_Score Progress_Rpt_10-11 Student_Progress_10-11  \\\n",
       "4    01M539           Proficient                  A                      A   \n",
       "7    02M288           Proficient                  A                      B   \n",
       "9    02M296           Proficient                  A                      A   \n",
       "10   02M298       Well Developed                  A                      A   \n",
       "14   02M308       Well Developed                  A                      A   \n",
       "..      ...                  ...                ...                    ...   \n",
       "415  02M475       Well Developed                  A                      B   \n",
       "416  05M692       Well Developed                  A                      B   \n",
       "417  10X696       Well Developed                  A                      A   \n",
       "419  10X445       Well Developed                  A                      A   \n",
       "421  28Q687           Proficient                  A                      B   \n",
       "\n",
       "     graduation 2010-11  college enroll 2010-11  collegeRate  \n",
       "4                 0.953                   0.870     0.912907  \n",
       "7                 0.820                   0.627     0.764634  \n",
       "9                 0.793                   0.560     0.706179  \n",
       "10                0.915                   0.796     0.869945  \n",
       "14                0.762                   0.478     0.627297  \n",
       "..                  ...                     ...          ...  \n",
       "415               0.985                   0.854     0.867005  \n",
       "416               0.982                   0.934     0.951120  \n",
       "417               1.000                   0.936     0.936000  \n",
       "419               1.000                   0.994     0.994000  \n",
       "421               1.000                   0.972     0.972000  \n",
       "\n",
       "[79 rows x 7 columns]"
      ]
     },
     "execution_count": 111,
     "metadata": {},
     "output_type": "execute_result"
    }
   ],
   "source": [
    "ICEmask = (ICEdata['graduation 2010-11'] > 0.75) & (ICEdata['Progress_Rpt_10-11'] == 'A') \n",
    "ICEdata[ICEmask]"
   ]
  },
  {
   "cell_type": "markdown",
   "id": "7839ecd0",
   "metadata": {},
   "source": [
    "#Combining datasets in pandas "
   ]
  },
  {
   "cell_type": "markdown",
   "id": "a8923852",
   "metadata": {},
   "source": [
    "#we'll define this function which creates a DataFrame "
   ]
  },
  {
   "cell_type": "code",
   "execution_count": 127,
   "id": "f5a5c33b",
   "metadata": {},
   "outputs": [
    {
     "data": {
      "text/html": [
       "<div>\n",
       "<style scoped>\n",
       "    .dataframe tbody tr th:only-of-type {\n",
       "        vertical-align: middle;\n",
       "    }\n",
       "\n",
       "    .dataframe tbody tr th {\n",
       "        vertical-align: top;\n",
       "    }\n",
       "\n",
       "    .dataframe thead th {\n",
       "        text-align: right;\n",
       "    }\n",
       "</style>\n",
       "<table border=\"1\" class=\"dataframe\">\n",
       "  <thead>\n",
       "    <tr style=\"text-align: right;\">\n",
       "      <th></th>\n",
       "      <th>A</th>\n",
       "      <th>B</th>\n",
       "      <th>C</th>\n",
       "      <th>D</th>\n",
       "    </tr>\n",
       "  </thead>\n",
       "  <tbody>\n",
       "    <tr>\n",
       "      <th>0</th>\n",
       "      <td>A0</td>\n",
       "      <td>B0</td>\n",
       "      <td>C0</td>\n",
       "      <td>D0</td>\n",
       "    </tr>\n",
       "    <tr>\n",
       "      <th>1</th>\n",
       "      <td>A1</td>\n",
       "      <td>B1</td>\n",
       "      <td>C1</td>\n",
       "      <td>D1</td>\n",
       "    </tr>\n",
       "    <tr>\n",
       "      <th>2</th>\n",
       "      <td>A2</td>\n",
       "      <td>B2</td>\n",
       "      <td>C2</td>\n",
       "      <td>D2</td>\n",
       "    </tr>\n",
       "    <tr>\n",
       "      <th>3</th>\n",
       "      <td>A3</td>\n",
       "      <td>B3</td>\n",
       "      <td>C3</td>\n",
       "      <td>D3</td>\n",
       "    </tr>\n",
       "    <tr>\n",
       "      <th>4</th>\n",
       "      <td>A4</td>\n",
       "      <td>B4</td>\n",
       "      <td>C4</td>\n",
       "      <td>D4</td>\n",
       "    </tr>\n",
       "  </tbody>\n",
       "</table>\n",
       "</div>"
      ],
      "text/plain": [
       "    A   B   C   D\n",
       "0  A0  B0  C0  D0\n",
       "1  A1  B1  C1  D1\n",
       "2  A2  B2  C2  D2\n",
       "3  A3  B3  C3  D3\n",
       "4  A4  B4  C4  D4"
      ]
     },
     "execution_count": 127,
     "metadata": {},
     "output_type": "execute_result"
    }
   ],
   "source": [
    "def make(cols, ind): #Quickly make a DataFrame\n",
    "    data = {c: [str(c) + str(i) for i in ind]\n",
    "            for c in cols}\n",
    "    return pd.DataFrame(data, ind)\n",
    "\n",
    "# example DataFrame\n",
    "make('ABCD', range(5))"
   ]
  },
  {
   "cell_type": "code",
   "execution_count": 131,
   "id": "d8ee64ed",
   "metadata": {},
   "outputs": [
    {
     "name": "stdout",
     "output_type": "stream",
     "text": [
      "    A   B   C\n",
      "1  A1  B1  C1\n",
      "2  A2  B2  C2\n",
      "3  A3  B3  C3 \n",
      "\n",
      "\n",
      "\n",
      "    A   B\n",
      "3  A3  B3\n",
      "4  A4  B4 \n",
      "\n",
      "\n",
      "\n",
      "    A   B    C\n",
      "1  A1  B1   C1\n",
      "2  A2  B2   C2\n",
      "3  A3  B3   C3\n",
      "3  A3  B3  NaN\n",
      "4  A4  B4  NaN\n"
     ]
    }
   ],
   "source": [
    "# By default, the concatenation takes place row-wise within the DataFrame.\n",
    "\n",
    "df1 = make('ABC', [1, 2,3])\n",
    "df2 = make('AB', [3, 4])\n",
    "print(df1, \"\\n\\n\\n\")\n",
    "print(df2, \"\\n\\n\\n\")\n",
    "print(pd.concat([df1, df2]))"
   ]
  },
  {
   "cell_type": "code",
   "execution_count": 132,
   "id": "4af8dd0e",
   "metadata": {},
   "outputs": [
    {
     "name": "stdout",
     "output_type": "stream",
     "text": [
      "    A   B   C\n",
      "1  A1  B1  C1\n",
      "2  A2  B2  C2 \n",
      "\n",
      "\n",
      "\n",
      "    B   C   D\n",
      "3  B3  C3  D3\n",
      "4  B4  C4  D4 \n",
      "\n",
      "\n",
      "\n",
      "     A   B   C    D\n",
      "1   A1  B1  C1  NaN\n",
      "2   A2  B2  C2  NaN\n",
      "3  NaN  B3  C3   D3\n",
      "4  NaN  B4  C4   D4\n"
     ]
    }
   ],
   "source": [
    "df3 = make_df('ABC', [1, 2]) #which have some (but not all!) columns in common\n",
    "df4 = make_df('BCD', [3, 4])\n",
    "print(df3, \"\\n\\n\\n\")\n",
    "print(df4, \"\\n\\n\\n\")\n",
    "print(pd.concat([df3, df4]))"
   ]
  },
  {
   "cell_type": "markdown",
   "id": "9c5cf169",
   "metadata": {},
   "source": [
    "#no data are filled with NaN values\n",
    "#the join is a union of the input columns (join='outer') #并集\n",
    "#but we can change this to an intersection of the columns using join='inner' #交集"
   ]
  },
  {
   "cell_type": "code",
   "execution_count": 133,
   "id": "02d7bd54",
   "metadata": {},
   "outputs": [
    {
     "data": {
      "text/html": [
       "<div>\n",
       "<style scoped>\n",
       "    .dataframe tbody tr th:only-of-type {\n",
       "        vertical-align: middle;\n",
       "    }\n",
       "\n",
       "    .dataframe tbody tr th {\n",
       "        vertical-align: top;\n",
       "    }\n",
       "\n",
       "    .dataframe thead th {\n",
       "        text-align: right;\n",
       "    }\n",
       "</style>\n",
       "<table border=\"1\" class=\"dataframe\">\n",
       "  <thead>\n",
       "    <tr style=\"text-align: right;\">\n",
       "      <th></th>\n",
       "      <th>B</th>\n",
       "      <th>C</th>\n",
       "    </tr>\n",
       "  </thead>\n",
       "  <tbody>\n",
       "    <tr>\n",
       "      <th>1</th>\n",
       "      <td>B1</td>\n",
       "      <td>C1</td>\n",
       "    </tr>\n",
       "    <tr>\n",
       "      <th>2</th>\n",
       "      <td>B2</td>\n",
       "      <td>C2</td>\n",
       "    </tr>\n",
       "    <tr>\n",
       "      <th>3</th>\n",
       "      <td>B3</td>\n",
       "      <td>C3</td>\n",
       "    </tr>\n",
       "    <tr>\n",
       "      <th>4</th>\n",
       "      <td>B4</td>\n",
       "      <td>C4</td>\n",
       "    </tr>\n",
       "  </tbody>\n",
       "</table>\n",
       "</div>"
      ],
      "text/plain": [
       "    B   C\n",
       "1  B1  C1\n",
       "2  B2  C2\n",
       "3  B3  C3\n",
       "4  B4  C4"
      ]
     },
     "execution_count": 133,
     "metadata": {},
     "output_type": "execute_result"
    }
   ],
   "source": [
    "pd.concat([df3, df4], join = 'inner')"
   ]
  },
  {
   "cell_type": "code",
   "execution_count": 134,
   "id": "b7564871",
   "metadata": {},
   "outputs": [
    {
     "data": {
      "text/html": [
       "<div>\n",
       "<style scoped>\n",
       "    .dataframe tbody tr th:only-of-type {\n",
       "        vertical-align: middle;\n",
       "    }\n",
       "\n",
       "    .dataframe tbody tr th {\n",
       "        vertical-align: top;\n",
       "    }\n",
       "\n",
       "    .dataframe thead th {\n",
       "        text-align: right;\n",
       "    }\n",
       "</style>\n",
       "<table border=\"1\" class=\"dataframe\">\n",
       "  <thead>\n",
       "    <tr style=\"text-align: right;\">\n",
       "      <th></th>\n",
       "      <th>A</th>\n",
       "      <th>B</th>\n",
       "      <th>C</th>\n",
       "      <th>D</th>\n",
       "    </tr>\n",
       "  </thead>\n",
       "  <tbody>\n",
       "    <tr>\n",
       "      <th>1</th>\n",
       "      <td>A1</td>\n",
       "      <td>B1</td>\n",
       "      <td>C1</td>\n",
       "      <td>NaN</td>\n",
       "    </tr>\n",
       "    <tr>\n",
       "      <th>2</th>\n",
       "      <td>A2</td>\n",
       "      <td>B2</td>\n",
       "      <td>C2</td>\n",
       "      <td>NaN</td>\n",
       "    </tr>\n",
       "    <tr>\n",
       "      <th>3</th>\n",
       "      <td>NaN</td>\n",
       "      <td>B3</td>\n",
       "      <td>C3</td>\n",
       "      <td>D3</td>\n",
       "    </tr>\n",
       "    <tr>\n",
       "      <th>4</th>\n",
       "      <td>NaN</td>\n",
       "      <td>B4</td>\n",
       "      <td>C4</td>\n",
       "      <td>D4</td>\n",
       "    </tr>\n",
       "  </tbody>\n",
       "</table>\n",
       "</div>"
      ],
      "text/plain": [
       "     A   B   C    D\n",
       "1   A1  B1  C1  NaN\n",
       "2   A2  B2  C2  NaN\n",
       "3  NaN  B3  C3   D3\n",
       "4  NaN  B4  C4   D4"
      ]
     },
     "execution_count": 134,
     "metadata": {},
     "output_type": "execute_result"
    }
   ],
   "source": [
    "pd.concat([df3, df4], join = 'outer')"
   ]
  },
  {
   "cell_type": "markdown",
   "id": "8aedc5f9",
   "metadata": {},
   "source": [
    "#pd.merge()   I don't recommend"
   ]
  },
  {
   "cell_type": "code",
   "execution_count": 135,
   "id": "9c889810",
   "metadata": {},
   "outputs": [
    {
     "name": "stdout",
     "output_type": "stream",
     "text": [
      "  employee        group\n",
      "0      Bob   Accounting\n",
      "1     Jake  Engineering\n",
      "2     Lisa  Engineering\n",
      "3      Sue           HR \n",
      "\n",
      "\n",
      "\n",
      "  employee  hire_date\n",
      "0     Lisa       2004\n",
      "1      Bob       2008\n",
      "2     Jake       2012\n",
      "3      Sue       2014 \n",
      "\n",
      "\n",
      "\n",
      "  employee        group  hire_date\n",
      "0      Bob   Accounting       2008\n",
      "1     Jake  Engineering       2012\n",
      "2     Lisa  Engineering       2004\n",
      "3      Sue           HR       2014\n"
     ]
    }
   ],
   "source": [
    "df5 = pd.DataFrame({'employee': ['Bob', 'Jake', 'Lisa', 'Sue'],\n",
    "                    'group': ['Accounting', 'Engineering', 'Engineering', 'HR']})\n",
    "df6 = pd.DataFrame({'employee': ['Lisa', 'Bob', 'Jake', 'Sue'],\n",
    "                    'hire_date': [2004, 2008, 2012, 2014]})\n",
    "dfm = pd.merge(df5, df6)\n",
    "\n",
    "print(df5, \"\\n\\n\\n\")\n",
    "print(df6, \"\\n\\n\\n\")\n",
    "print(dfm)"
   ]
  },
  {
   "cell_type": "code",
   "execution_count": 137,
   "id": "b5a50b50",
   "metadata": {},
   "outputs": [
    {
     "name": "stdout",
     "output_type": "stream",
     "text": [
      "         group supervisor\n",
      "0   Accounting      Carly\n",
      "1  Engineering      Guido\n",
      "2           HR      Steve \n",
      "\n",
      "\n",
      "\n",
      "  employee        group supervisor\n",
      "0      Bob   Accounting      Carly\n",
      "1     Jake  Engineering      Guido\n",
      "2     Lisa  Engineering      Guido\n",
      "3      Sue           HR      Steve\n"
     ]
    }
   ],
   "source": [
    " #many-to-one join:\n",
    "df7 = pd.DataFrame({'group': ['Accounting', 'Engineering', 'HR'],\n",
    "                    'supervisor': ['Carly', 'Guido', 'Steve']})\n",
    "\n",
    "dfm = pd.merge(df5, df7)\n",
    "print(df7, \"\\n\\n\\n\")\n",
    "\n",
    "print(dfm)"
   ]
  },
  {
   "cell_type": "markdown",
   "id": "8f775517",
   "metadata": {},
   "source": [
    "#on keyword, which takes a column name or a list of column names:"
   ]
  },
  {
   "cell_type": "code",
   "execution_count": 136,
   "id": "f914b407",
   "metadata": {},
   "outputs": [
    {
     "data": {
      "text/html": [
       "<div>\n",
       "<style scoped>\n",
       "    .dataframe tbody tr th:only-of-type {\n",
       "        vertical-align: middle;\n",
       "    }\n",
       "\n",
       "    .dataframe tbody tr th {\n",
       "        vertical-align: top;\n",
       "    }\n",
       "\n",
       "    .dataframe thead th {\n",
       "        text-align: right;\n",
       "    }\n",
       "</style>\n",
       "<table border=\"1\" class=\"dataframe\">\n",
       "  <thead>\n",
       "    <tr style=\"text-align: right;\">\n",
       "      <th></th>\n",
       "      <th>employee</th>\n",
       "      <th>group</th>\n",
       "      <th>hire_date</th>\n",
       "    </tr>\n",
       "  </thead>\n",
       "  <tbody>\n",
       "    <tr>\n",
       "      <th>0</th>\n",
       "      <td>Bob</td>\n",
       "      <td>Accounting</td>\n",
       "      <td>2008</td>\n",
       "    </tr>\n",
       "    <tr>\n",
       "      <th>1</th>\n",
       "      <td>Jake</td>\n",
       "      <td>Engineering</td>\n",
       "      <td>2012</td>\n",
       "    </tr>\n",
       "    <tr>\n",
       "      <th>2</th>\n",
       "      <td>Lisa</td>\n",
       "      <td>Engineering</td>\n",
       "      <td>2004</td>\n",
       "    </tr>\n",
       "    <tr>\n",
       "      <th>3</th>\n",
       "      <td>Sue</td>\n",
       "      <td>HR</td>\n",
       "      <td>2014</td>\n",
       "    </tr>\n",
       "  </tbody>\n",
       "</table>\n",
       "</div>"
      ],
      "text/plain": [
       "  employee        group  hire_date\n",
       "0      Bob   Accounting       2008\n",
       "1     Jake  Engineering       2012\n",
       "2     Lisa  Engineering       2004\n",
       "3      Sue           HR       2014"
      ]
     },
     "execution_count": 136,
     "metadata": {},
     "output_type": "execute_result"
    }
   ],
   "source": [
    "pd.merge(df5, df6, on='employee')"
   ]
  },
  {
   "cell_type": "markdown",
   "id": "cce58bd6",
   "metadata": {},
   "source": [
    "#wish to merge two datasets with different column names"
   ]
  },
  {
   "cell_type": "code",
   "execution_count": 140,
   "id": "91ed0b99",
   "metadata": {},
   "outputs": [
    {
     "data": {
      "text/html": [
       "<div>\n",
       "<style scoped>\n",
       "    .dataframe tbody tr th:only-of-type {\n",
       "        vertical-align: middle;\n",
       "    }\n",
       "\n",
       "    .dataframe tbody tr th {\n",
       "        vertical-align: top;\n",
       "    }\n",
       "\n",
       "    .dataframe thead th {\n",
       "        text-align: right;\n",
       "    }\n",
       "</style>\n",
       "<table border=\"1\" class=\"dataframe\">\n",
       "  <thead>\n",
       "    <tr style=\"text-align: right;\">\n",
       "      <th></th>\n",
       "      <th>employee</th>\n",
       "      <th>group</th>\n",
       "      <th>name</th>\n",
       "      <th>salary</th>\n",
       "    </tr>\n",
       "  </thead>\n",
       "  <tbody>\n",
       "    <tr>\n",
       "      <th>0</th>\n",
       "      <td>Bob</td>\n",
       "      <td>Accounting</td>\n",
       "      <td>Bob</td>\n",
       "      <td>70000</td>\n",
       "    </tr>\n",
       "    <tr>\n",
       "      <th>1</th>\n",
       "      <td>Jake</td>\n",
       "      <td>Engineering</td>\n",
       "      <td>Jake</td>\n",
       "      <td>80000</td>\n",
       "    </tr>\n",
       "    <tr>\n",
       "      <th>2</th>\n",
       "      <td>Lisa</td>\n",
       "      <td>Engineering</td>\n",
       "      <td>Lisa</td>\n",
       "      <td>120000</td>\n",
       "    </tr>\n",
       "    <tr>\n",
       "      <th>3</th>\n",
       "      <td>Sue</td>\n",
       "      <td>HR</td>\n",
       "      <td>Sue</td>\n",
       "      <td>90000</td>\n",
       "    </tr>\n",
       "  </tbody>\n",
       "</table>\n",
       "</div>"
      ],
      "text/plain": [
       "  employee        group  name  salary\n",
       "0      Bob   Accounting   Bob   70000\n",
       "1     Jake  Engineering  Jake   80000\n",
       "2     Lisa  Engineering  Lisa  120000\n",
       "3      Sue           HR   Sue   90000"
      ]
     },
     "execution_count": 140,
     "metadata": {},
     "output_type": "execute_result"
    }
   ],
   "source": [
    "df8 = pd.DataFrame({'name': ['Bob', 'Jake', 'Lisa', 'Sue'],\n",
    "                    'salary': [70000, 80000, 120000, 90000]})\n",
    "pd.merge(df5, df8, left_on = 'employee', right_on = 'name')"
   ]
  },
  {
   "cell_type": "code",
   "execution_count": 141,
   "id": "d82b2d55",
   "metadata": {},
   "outputs": [
    {
     "data": {
      "text/html": [
       "<div>\n",
       "<style scoped>\n",
       "    .dataframe tbody tr th:only-of-type {\n",
       "        vertical-align: middle;\n",
       "    }\n",
       "\n",
       "    .dataframe tbody tr th {\n",
       "        vertical-align: top;\n",
       "    }\n",
       "\n",
       "    .dataframe thead th {\n",
       "        text-align: right;\n",
       "    }\n",
       "</style>\n",
       "<table border=\"1\" class=\"dataframe\">\n",
       "  <thead>\n",
       "    <tr style=\"text-align: right;\">\n",
       "      <th></th>\n",
       "      <th>employee</th>\n",
       "      <th>group</th>\n",
       "      <th>salary</th>\n",
       "    </tr>\n",
       "  </thead>\n",
       "  <tbody>\n",
       "    <tr>\n",
       "      <th>0</th>\n",
       "      <td>Bob</td>\n",
       "      <td>Accounting</td>\n",
       "      <td>70000</td>\n",
       "    </tr>\n",
       "    <tr>\n",
       "      <th>1</th>\n",
       "      <td>Jake</td>\n",
       "      <td>Engineering</td>\n",
       "      <td>80000</td>\n",
       "    </tr>\n",
       "    <tr>\n",
       "      <th>2</th>\n",
       "      <td>Lisa</td>\n",
       "      <td>Engineering</td>\n",
       "      <td>120000</td>\n",
       "    </tr>\n",
       "    <tr>\n",
       "      <th>3</th>\n",
       "      <td>Sue</td>\n",
       "      <td>HR</td>\n",
       "      <td>90000</td>\n",
       "    </tr>\n",
       "  </tbody>\n",
       "</table>\n",
       "</div>"
      ],
      "text/plain": [
       "  employee        group  salary\n",
       "0      Bob   Accounting   70000\n",
       "1     Jake  Engineering   80000\n",
       "2     Lisa  Engineering  120000\n",
       "3      Sue           HR   90000"
      ]
     },
     "execution_count": 141,
     "metadata": {},
     "output_type": "execute_result"
    }
   ],
   "source": [
    "pd.merge(df5, df8, left_on = 'employee', right_on = 'name').drop('name', axis=1)"
   ]
  },
  {
   "cell_type": "markdown",
   "id": "9393e044",
   "metadata": {},
   "source": [
    "#the left_index and right_index keywords allow you merge on an index instead."
   ]
  },
  {
   "cell_type": "markdown",
   "id": "02060e9d",
   "metadata": {},
   "source": [
    "#Aggregation, grouping, and pivot tables"
   ]
  },
  {
   "cell_type": "code",
   "execution_count": 142,
   "id": "e0c41eb1",
   "metadata": {},
   "outputs": [
    {
     "data": {
      "text/html": [
       "<div>\n",
       "<style scoped>\n",
       "    .dataframe tbody tr th:only-of-type {\n",
       "        vertical-align: middle;\n",
       "    }\n",
       "\n",
       "    .dataframe tbody tr th {\n",
       "        vertical-align: top;\n",
       "    }\n",
       "\n",
       "    .dataframe thead th {\n",
       "        text-align: right;\n",
       "    }\n",
       "</style>\n",
       "<table border=\"1\" class=\"dataframe\">\n",
       "  <thead>\n",
       "    <tr style=\"text-align: right;\">\n",
       "      <th></th>\n",
       "      <th>DBN</th>\n",
       "      <th>Quality_Review_Score</th>\n",
       "      <th>Progress_Rpt_10-11</th>\n",
       "      <th>Student_Progress_10-11</th>\n",
       "      <th>graduation 2010-11</th>\n",
       "      <th>college enroll 2010-11</th>\n",
       "      <th>collegeRate</th>\n",
       "    </tr>\n",
       "  </thead>\n",
       "  <tbody>\n",
       "    <tr>\n",
       "      <th>count</th>\n",
       "      <td>422</td>\n",
       "      <td>368</td>\n",
       "      <td>310</td>\n",
       "      <td>310</td>\n",
       "      <td>310.000000</td>\n",
       "      <td>291.000000</td>\n",
       "      <td>291.000000</td>\n",
       "    </tr>\n",
       "    <tr>\n",
       "      <th>unique</th>\n",
       "      <td>422</td>\n",
       "      <td>6</td>\n",
       "      <td>5</td>\n",
       "      <td>5</td>\n",
       "      <td>NaN</td>\n",
       "      <td>NaN</td>\n",
       "      <td>NaN</td>\n",
       "    </tr>\n",
       "    <tr>\n",
       "      <th>top</th>\n",
       "      <td>15K463</td>\n",
       "      <td>Proficient</td>\n",
       "      <td>A</td>\n",
       "      <td>C</td>\n",
       "      <td>NaN</td>\n",
       "      <td>NaN</td>\n",
       "      <td>NaN</td>\n",
       "    </tr>\n",
       "    <tr>\n",
       "      <th>freq</th>\n",
       "      <td>1</td>\n",
       "      <td>186</td>\n",
       "      <td>109</td>\n",
       "      <td>93</td>\n",
       "      <td>NaN</td>\n",
       "      <td>NaN</td>\n",
       "      <td>NaN</td>\n",
       "    </tr>\n",
       "    <tr>\n",
       "      <th>mean</th>\n",
       "      <td>NaN</td>\n",
       "      <td>NaN</td>\n",
       "      <td>NaN</td>\n",
       "      <td>NaN</td>\n",
       "      <td>0.737977</td>\n",
       "      <td>0.531196</td>\n",
       "      <td>0.707836</td>\n",
       "    </tr>\n",
       "    <tr>\n",
       "      <th>std</th>\n",
       "      <td>NaN</td>\n",
       "      <td>NaN</td>\n",
       "      <td>NaN</td>\n",
       "      <td>NaN</td>\n",
       "      <td>0.143356</td>\n",
       "      <td>0.193129</td>\n",
       "      <td>0.168986</td>\n",
       "    </tr>\n",
       "    <tr>\n",
       "      <th>min</th>\n",
       "      <td>NaN</td>\n",
       "      <td>NaN</td>\n",
       "      <td>NaN</td>\n",
       "      <td>NaN</td>\n",
       "      <td>0.412000</td>\n",
       "      <td>0.141000</td>\n",
       "      <td>0.262570</td>\n",
       "    </tr>\n",
       "    <tr>\n",
       "      <th>25%</th>\n",
       "      <td>NaN</td>\n",
       "      <td>NaN</td>\n",
       "      <td>NaN</td>\n",
       "      <td>NaN</td>\n",
       "      <td>0.625250</td>\n",
       "      <td>0.391000</td>\n",
       "      <td>0.589317</td>\n",
       "    </tr>\n",
       "    <tr>\n",
       "      <th>50%</th>\n",
       "      <td>NaN</td>\n",
       "      <td>NaN</td>\n",
       "      <td>NaN</td>\n",
       "      <td>NaN</td>\n",
       "      <td>0.726000</td>\n",
       "      <td>0.489000</td>\n",
       "      <td>0.707569</td>\n",
       "    </tr>\n",
       "    <tr>\n",
       "      <th>75%</th>\n",
       "      <td>NaN</td>\n",
       "      <td>NaN</td>\n",
       "      <td>NaN</td>\n",
       "      <td>NaN</td>\n",
       "      <td>0.850750</td>\n",
       "      <td>0.656000</td>\n",
       "      <td>0.838918</td>\n",
       "    </tr>\n",
       "    <tr>\n",
       "      <th>max</th>\n",
       "      <td>NaN</td>\n",
       "      <td>NaN</td>\n",
       "      <td>NaN</td>\n",
       "      <td>NaN</td>\n",
       "      <td>1.000000</td>\n",
       "      <td>1.000000</td>\n",
       "      <td>1.101227</td>\n",
       "    </tr>\n",
       "  </tbody>\n",
       "</table>\n",
       "</div>"
      ],
      "text/plain": [
       "           DBN Quality_Review_Score Progress_Rpt_10-11 Student_Progress_10-11  \\\n",
       "count      422                  368                310                    310   \n",
       "unique     422                    6                  5                      5   \n",
       "top     15K463           Proficient                  A                      C   \n",
       "freq         1                  186                109                     93   \n",
       "mean       NaN                  NaN                NaN                    NaN   \n",
       "std        NaN                  NaN                NaN                    NaN   \n",
       "min        NaN                  NaN                NaN                    NaN   \n",
       "25%        NaN                  NaN                NaN                    NaN   \n",
       "50%        NaN                  NaN                NaN                    NaN   \n",
       "75%        NaN                  NaN                NaN                    NaN   \n",
       "max        NaN                  NaN                NaN                    NaN   \n",
       "\n",
       "        graduation 2010-11  college enroll 2010-11  collegeRate  \n",
       "count           310.000000              291.000000   291.000000  \n",
       "unique                 NaN                     NaN          NaN  \n",
       "top                    NaN                     NaN          NaN  \n",
       "freq                   NaN                     NaN          NaN  \n",
       "mean              0.737977                0.531196     0.707836  \n",
       "std               0.143356                0.193129     0.168986  \n",
       "min               0.412000                0.141000     0.262570  \n",
       "25%               0.625250                0.391000     0.589317  \n",
       "50%               0.726000                0.489000     0.707569  \n",
       "75%               0.850750                0.656000     0.838918  \n",
       "max               1.000000                1.000000     1.101227  "
      ]
     },
     "execution_count": 142,
     "metadata": {},
     "output_type": "execute_result"
    }
   ],
   "source": [
    "ICEdata.describe(include = 'all')"
   ]
  },
  {
   "cell_type": "markdown",
   "id": "abc65058",
   "metadata": {},
   "source": [
    "#Simple methods such as sum(), mean(), median(), min(), and max()"
   ]
  },
  {
   "cell_type": "code",
   "execution_count": 143,
   "id": "ab113b21",
   "metadata": {},
   "outputs": [
    {
     "data": {
      "text/plain": [
       "graduation 2010-11        0.737977\n",
       "college enroll 2010-11    0.531196\n",
       "collegeRate               0.707836\n",
       "dtype: float64"
      ]
     },
     "execution_count": 143,
     "metadata": {},
     "output_type": "execute_result"
    }
   ],
   "source": [
    "ICEdata.mean()"
   ]
  },
  {
   "cell_type": "code",
   "execution_count": 144,
   "id": "f6d52f37",
   "metadata": {},
   "outputs": [
    {
     "data": {
      "text/plain": [
       "1.0"
      ]
     },
     "execution_count": 144,
     "metadata": {},
     "output_type": "execute_result"
    }
   ],
   "source": [
    "ICEdata['graduation 2010-11'].max()"
   ]
  },
  {
   "cell_type": "code",
   "execution_count": 145,
   "id": "14c6c463",
   "metadata": {},
   "outputs": [
    {
     "data": {
      "text/plain": [
       "0.141"
      ]
     },
     "execution_count": 145,
     "metadata": {},
     "output_type": "execute_result"
    }
   ],
   "source": [
    "ICEdata['college enroll 2010-11'].min()"
   ]
  },
  {
   "cell_type": "markdown",
   "id": "99ddab98",
   "metadata": {},
   "source": [
    "#Other Pandas aggregation methods:\n",
    "\n",
    "#count(): Total number of items\n",
    "#first(), last(): First and last item\n",
    "#mean(), median(): Mean and median\n",
    "#min(), max(): Minimum and maximum\n",
    "#std(), var(): Standard deviation and variance\n",
    "#mad(): Mean absolute deviation\n",
    "#prod(): Product of all items\n",
    "#sum(): Sum of all items These are all methods of DataFrame and Series objects."
   ]
  },
  {
   "cell_type": "code",
   "execution_count": 147,
   "id": "24166a7e",
   "metadata": {},
   "outputs": [
    {
     "data": {
      "text/plain": [
       "3.8019163565051434e-89"
      ]
     },
     "execution_count": 147,
     "metadata": {},
     "output_type": "execute_result"
    }
   ],
   "source": [
    "ICEdata['college enroll 2010-11'].prod()"
   ]
  },
  {
   "cell_type": "markdown",
   "id": "0deee76b",
   "metadata": {},
   "source": [
    "#groupby generally follows three steps: split, apply, and combine:\n",
    "\n",
    "#The split step involves breaking up and grouping a DataFrame depending on the value of the specified key.\n",
    "#The apply step involves computing some function, usually an aggregate, transformation, or filtering, within the individual groups.\n",
    "#The combine step merges the results of these operations into an output array."
   ]
  },
  {
   "cell_type": "code",
   "execution_count": 148,
   "id": "12fa8146",
   "metadata": {},
   "outputs": [
    {
     "data": {
      "text/html": [
       "<div>\n",
       "<style scoped>\n",
       "    .dataframe tbody tr th:only-of-type {\n",
       "        vertical-align: middle;\n",
       "    }\n",
       "\n",
       "    .dataframe tbody tr th {\n",
       "        vertical-align: top;\n",
       "    }\n",
       "\n",
       "    .dataframe thead th {\n",
       "        text-align: right;\n",
       "    }\n",
       "</style>\n",
       "<table border=\"1\" class=\"dataframe\">\n",
       "  <thead>\n",
       "    <tr style=\"text-align: right;\">\n",
       "      <th></th>\n",
       "      <th>graduation 2010-11</th>\n",
       "      <th>college enroll 2010-11</th>\n",
       "      <th>collegeRate</th>\n",
       "    </tr>\n",
       "    <tr>\n",
       "      <th>Quality_Review_Score</th>\n",
       "      <th></th>\n",
       "      <th></th>\n",
       "      <th></th>\n",
       "    </tr>\n",
       "  </thead>\n",
       "  <tbody>\n",
       "    <tr>\n",
       "      <th>Developing</th>\n",
       "      <td>0.633019</td>\n",
       "      <td>0.402830</td>\n",
       "      <td>0.641309</td>\n",
       "    </tr>\n",
       "    <tr>\n",
       "      <th>Outstanding (only an option in 2007-8)</th>\n",
       "      <td>0.864333</td>\n",
       "      <td>0.747667</td>\n",
       "      <td>0.864183</td>\n",
       "    </tr>\n",
       "    <tr>\n",
       "      <th>Proficient</th>\n",
       "      <td>0.729554</td>\n",
       "      <td>0.521208</td>\n",
       "      <td>0.703604</td>\n",
       "    </tr>\n",
       "    <tr>\n",
       "      <th>Underdeveloped</th>\n",
       "      <td>0.549667</td>\n",
       "      <td>0.350167</td>\n",
       "      <td>0.631451</td>\n",
       "    </tr>\n",
       "    <tr>\n",
       "      <th>Underdeveloped with Proficient Features (only an option in 2007-8, 2008-9 and 2009-10)</th>\n",
       "      <td>NaN</td>\n",
       "      <td>NaN</td>\n",
       "      <td>NaN</td>\n",
       "    </tr>\n",
       "    <tr>\n",
       "      <th>Well Developed</th>\n",
       "      <td>0.823367</td>\n",
       "      <td>0.625871</td>\n",
       "      <td>0.752696</td>\n",
       "    </tr>\n",
       "  </tbody>\n",
       "</table>\n",
       "</div>"
      ],
      "text/plain": [
       "                                                    graduation 2010-11  \\\n",
       "Quality_Review_Score                                                     \n",
       "Developing                                                    0.633019   \n",
       "Outstanding (only an option in 2007-8)                        0.864333   \n",
       "Proficient                                                    0.729554   \n",
       "Underdeveloped                                                0.549667   \n",
       "Underdeveloped with Proficient Features (only a...                 NaN   \n",
       "Well Developed                                                0.823367   \n",
       "\n",
       "                                                    college enroll 2010-11  \\\n",
       "Quality_Review_Score                                                         \n",
       "Developing                                                        0.402830   \n",
       "Outstanding (only an option in 2007-8)                            0.747667   \n",
       "Proficient                                                        0.521208   \n",
       "Underdeveloped                                                    0.350167   \n",
       "Underdeveloped with Proficient Features (only a...                     NaN   \n",
       "Well Developed                                                    0.625871   \n",
       "\n",
       "                                                    collegeRate  \n",
       "Quality_Review_Score                                             \n",
       "Developing                                             0.641309  \n",
       "Outstanding (only an option in 2007-8)                 0.864183  \n",
       "Proficient                                             0.703604  \n",
       "Underdeveloped                                         0.631451  \n",
       "Underdeveloped with Proficient Features (only a...          NaN  \n",
       "Well Developed                                         0.752696  "
      ]
     },
     "execution_count": 148,
     "metadata": {},
     "output_type": "execute_result"
    }
   ],
   "source": [
    "ICEdata.groupby('Quality_Review_Score').mean()"
   ]
  },
  {
   "cell_type": "code",
   "execution_count": 149,
   "id": "6077a076",
   "metadata": {},
   "outputs": [
    {
     "data": {
      "text/html": [
       "<div>\n",
       "<style scoped>\n",
       "    .dataframe tbody tr th:only-of-type {\n",
       "        vertical-align: middle;\n",
       "    }\n",
       "\n",
       "    .dataframe tbody tr th {\n",
       "        vertical-align: top;\n",
       "    }\n",
       "\n",
       "    .dataframe thead th {\n",
       "        text-align: right;\n",
       "    }\n",
       "</style>\n",
       "<table border=\"1\" class=\"dataframe\">\n",
       "  <thead>\n",
       "    <tr style=\"text-align: right;\">\n",
       "      <th></th>\n",
       "      <th>count</th>\n",
       "      <th>mean</th>\n",
       "      <th>std</th>\n",
       "      <th>min</th>\n",
       "      <th>25%</th>\n",
       "      <th>50%</th>\n",
       "      <th>75%</th>\n",
       "      <th>max</th>\n",
       "    </tr>\n",
       "    <tr>\n",
       "      <th>Quality_Review_Score</th>\n",
       "      <th></th>\n",
       "      <th></th>\n",
       "      <th></th>\n",
       "      <th></th>\n",
       "      <th></th>\n",
       "      <th></th>\n",
       "      <th></th>\n",
       "      <th></th>\n",
       "    </tr>\n",
       "  </thead>\n",
       "  <tbody>\n",
       "    <tr>\n",
       "      <th>Developing</th>\n",
       "      <td>53.0</td>\n",
       "      <td>0.633019</td>\n",
       "      <td>0.107199</td>\n",
       "      <td>0.457</td>\n",
       "      <td>0.56300</td>\n",
       "      <td>0.615</td>\n",
       "      <td>0.69800</td>\n",
       "      <td>0.947</td>\n",
       "    </tr>\n",
       "    <tr>\n",
       "      <th>Outstanding (only an option in 2007-8)</th>\n",
       "      <td>3.0</td>\n",
       "      <td>0.864333</td>\n",
       "      <td>0.102051</td>\n",
       "      <td>0.800</td>\n",
       "      <td>0.80550</td>\n",
       "      <td>0.811</td>\n",
       "      <td>0.89650</td>\n",
       "      <td>0.982</td>\n",
       "    </tr>\n",
       "    <tr>\n",
       "      <th>Proficient</th>\n",
       "      <td>157.0</td>\n",
       "      <td>0.729554</td>\n",
       "      <td>0.135946</td>\n",
       "      <td>0.412</td>\n",
       "      <td>0.63000</td>\n",
       "      <td>0.722</td>\n",
       "      <td>0.81100</td>\n",
       "      <td>1.000</td>\n",
       "    </tr>\n",
       "    <tr>\n",
       "      <th>Underdeveloped</th>\n",
       "      <td>6.0</td>\n",
       "      <td>0.549667</td>\n",
       "      <td>0.061805</td>\n",
       "      <td>0.457</td>\n",
       "      <td>0.51525</td>\n",
       "      <td>0.554</td>\n",
       "      <td>0.59350</td>\n",
       "      <td>0.624</td>\n",
       "    </tr>\n",
       "    <tr>\n",
       "      <th>Underdeveloped with Proficient Features (only an option in 2007-8, 2008-9 and 2009-10)</th>\n",
       "      <td>0.0</td>\n",
       "      <td>NaN</td>\n",
       "      <td>NaN</td>\n",
       "      <td>NaN</td>\n",
       "      <td>NaN</td>\n",
       "      <td>NaN</td>\n",
       "      <td>NaN</td>\n",
       "      <td>NaN</td>\n",
       "    </tr>\n",
       "    <tr>\n",
       "      <th>Well Developed</th>\n",
       "      <td>90.0</td>\n",
       "      <td>0.823367</td>\n",
       "      <td>0.121570</td>\n",
       "      <td>0.545</td>\n",
       "      <td>0.72775</td>\n",
       "      <td>0.833</td>\n",
       "      <td>0.91875</td>\n",
       "      <td>1.000</td>\n",
       "    </tr>\n",
       "  </tbody>\n",
       "</table>\n",
       "</div>"
      ],
      "text/plain": [
       "                                                    count      mean       std  \\\n",
       "Quality_Review_Score                                                            \n",
       "Developing                                           53.0  0.633019  0.107199   \n",
       "Outstanding (only an option in 2007-8)                3.0  0.864333  0.102051   \n",
       "Proficient                                          157.0  0.729554  0.135946   \n",
       "Underdeveloped                                        6.0  0.549667  0.061805   \n",
       "Underdeveloped with Proficient Features (only a...    0.0       NaN       NaN   \n",
       "Well Developed                                       90.0  0.823367  0.121570   \n",
       "\n",
       "                                                      min      25%    50%  \\\n",
       "Quality_Review_Score                                                        \n",
       "Developing                                          0.457  0.56300  0.615   \n",
       "Outstanding (only an option in 2007-8)              0.800  0.80550  0.811   \n",
       "Proficient                                          0.412  0.63000  0.722   \n",
       "Underdeveloped                                      0.457  0.51525  0.554   \n",
       "Underdeveloped with Proficient Features (only a...    NaN      NaN    NaN   \n",
       "Well Developed                                      0.545  0.72775  0.833   \n",
       "\n",
       "                                                        75%    max  \n",
       "Quality_Review_Score                                                \n",
       "Developing                                          0.69800  0.947  \n",
       "Outstanding (only an option in 2007-8)              0.89650  0.982  \n",
       "Proficient                                          0.81100  1.000  \n",
       "Underdeveloped                                      0.59350  0.624  \n",
       "Underdeveloped with Proficient Features (only a...      NaN    NaN  \n",
       "Well Developed                                      0.91875  1.000  "
      ]
     },
     "execution_count": 149,
     "metadata": {},
     "output_type": "execute_result"
    }
   ],
   "source": [
    "# We can also just simply index one column\n",
    "ICEdata.groupby('Quality_Review_Score')['graduation 2010-11'].describe()"
   ]
  },
  {
   "cell_type": "markdown",
   "id": "8dccdc1a",
   "metadata": {},
   "source": [
    "#multiple columns to group"
   ]
  },
  {
   "cell_type": "code",
   "execution_count": 150,
   "id": "06cfbb2d",
   "metadata": {},
   "outputs": [
    {
     "data": {
      "text/html": [
       "<div>\n",
       "<style scoped>\n",
       "    .dataframe tbody tr th:only-of-type {\n",
       "        vertical-align: middle;\n",
       "    }\n",
       "\n",
       "    .dataframe tbody tr th {\n",
       "        vertical-align: top;\n",
       "    }\n",
       "\n",
       "    .dataframe thead tr th {\n",
       "        text-align: left;\n",
       "    }\n",
       "\n",
       "    .dataframe thead tr:last-of-type th {\n",
       "        text-align: right;\n",
       "    }\n",
       "</style>\n",
       "<table border=\"1\" class=\"dataframe\">\n",
       "  <thead>\n",
       "    <tr>\n",
       "      <th></th>\n",
       "      <th colspan=\"5\" halign=\"left\">DBN</th>\n",
       "      <th colspan=\"5\" halign=\"left\">Student_Progress_10-11</th>\n",
       "      <th>...</th>\n",
       "      <th colspan=\"5\" halign=\"left\">college enroll 2010-11</th>\n",
       "      <th colspan=\"5\" halign=\"left\">collegeRate</th>\n",
       "    </tr>\n",
       "    <tr>\n",
       "      <th>Progress_Rpt_10-11</th>\n",
       "      <th>A</th>\n",
       "      <th>B</th>\n",
       "      <th>C</th>\n",
       "      <th>D</th>\n",
       "      <th>F</th>\n",
       "      <th>A</th>\n",
       "      <th>B</th>\n",
       "      <th>C</th>\n",
       "      <th>D</th>\n",
       "      <th>F</th>\n",
       "      <th>...</th>\n",
       "      <th>A</th>\n",
       "      <th>B</th>\n",
       "      <th>C</th>\n",
       "      <th>D</th>\n",
       "      <th>F</th>\n",
       "      <th>A</th>\n",
       "      <th>B</th>\n",
       "      <th>C</th>\n",
       "      <th>D</th>\n",
       "      <th>F</th>\n",
       "    </tr>\n",
       "    <tr>\n",
       "      <th>Quality_Review_Score</th>\n",
       "      <th></th>\n",
       "      <th></th>\n",
       "      <th></th>\n",
       "      <th></th>\n",
       "      <th></th>\n",
       "      <th></th>\n",
       "      <th></th>\n",
       "      <th></th>\n",
       "      <th></th>\n",
       "      <th></th>\n",
       "      <th></th>\n",
       "      <th></th>\n",
       "      <th></th>\n",
       "      <th></th>\n",
       "      <th></th>\n",
       "      <th></th>\n",
       "      <th></th>\n",
       "      <th></th>\n",
       "      <th></th>\n",
       "      <th></th>\n",
       "      <th></th>\n",
       "    </tr>\n",
       "  </thead>\n",
       "  <tbody>\n",
       "    <tr>\n",
       "      <th>Developing</th>\n",
       "      <td>4.0</td>\n",
       "      <td>11.0</td>\n",
       "      <td>19.0</td>\n",
       "      <td>16.0</td>\n",
       "      <td>3.0</td>\n",
       "      <td>4.0</td>\n",
       "      <td>11.0</td>\n",
       "      <td>19.0</td>\n",
       "      <td>16.0</td>\n",
       "      <td>3.0</td>\n",
       "      <td>...</td>\n",
       "      <td>3.0</td>\n",
       "      <td>11.0</td>\n",
       "      <td>16.0</td>\n",
       "      <td>15.0</td>\n",
       "      <td>2.0</td>\n",
       "      <td>3.0</td>\n",
       "      <td>11.0</td>\n",
       "      <td>16.0</td>\n",
       "      <td>15.0</td>\n",
       "      <td>2.0</td>\n",
       "    </tr>\n",
       "    <tr>\n",
       "      <th>Outstanding (only an option in 2007-8)</th>\n",
       "      <td>3.0</td>\n",
       "      <td>NaN</td>\n",
       "      <td>NaN</td>\n",
       "      <td>NaN</td>\n",
       "      <td>NaN</td>\n",
       "      <td>3.0</td>\n",
       "      <td>NaN</td>\n",
       "      <td>NaN</td>\n",
       "      <td>NaN</td>\n",
       "      <td>NaN</td>\n",
       "      <td>...</td>\n",
       "      <td>3.0</td>\n",
       "      <td>NaN</td>\n",
       "      <td>NaN</td>\n",
       "      <td>NaN</td>\n",
       "      <td>NaN</td>\n",
       "      <td>3.0</td>\n",
       "      <td>NaN</td>\n",
       "      <td>NaN</td>\n",
       "      <td>NaN</td>\n",
       "      <td>NaN</td>\n",
       "    </tr>\n",
       "    <tr>\n",
       "      <th>Proficient</th>\n",
       "      <td>48.0</td>\n",
       "      <td>65.0</td>\n",
       "      <td>39.0</td>\n",
       "      <td>5.0</td>\n",
       "      <td>NaN</td>\n",
       "      <td>48.0</td>\n",
       "      <td>65.0</td>\n",
       "      <td>39.0</td>\n",
       "      <td>5.0</td>\n",
       "      <td>NaN</td>\n",
       "      <td>...</td>\n",
       "      <td>45.0</td>\n",
       "      <td>63.0</td>\n",
       "      <td>37.0</td>\n",
       "      <td>4.0</td>\n",
       "      <td>NaN</td>\n",
       "      <td>45.0</td>\n",
       "      <td>63.0</td>\n",
       "      <td>37.0</td>\n",
       "      <td>4.0</td>\n",
       "      <td>NaN</td>\n",
       "    </tr>\n",
       "    <tr>\n",
       "      <th>Underdeveloped</th>\n",
       "      <td>NaN</td>\n",
       "      <td>NaN</td>\n",
       "      <td>3.0</td>\n",
       "      <td>1.0</td>\n",
       "      <td>2.0</td>\n",
       "      <td>NaN</td>\n",
       "      <td>NaN</td>\n",
       "      <td>3.0</td>\n",
       "      <td>1.0</td>\n",
       "      <td>2.0</td>\n",
       "      <td>...</td>\n",
       "      <td>NaN</td>\n",
       "      <td>NaN</td>\n",
       "      <td>3.0</td>\n",
       "      <td>1.0</td>\n",
       "      <td>2.0</td>\n",
       "      <td>NaN</td>\n",
       "      <td>NaN</td>\n",
       "      <td>3.0</td>\n",
       "      <td>1.0</td>\n",
       "      <td>2.0</td>\n",
       "    </tr>\n",
       "    <tr>\n",
       "      <th>Well Developed</th>\n",
       "      <td>53.0</td>\n",
       "      <td>26.0</td>\n",
       "      <td>11.0</td>\n",
       "      <td>NaN</td>\n",
       "      <td>NaN</td>\n",
       "      <td>53.0</td>\n",
       "      <td>26.0</td>\n",
       "      <td>11.0</td>\n",
       "      <td>NaN</td>\n",
       "      <td>NaN</td>\n",
       "      <td>...</td>\n",
       "      <td>48.0</td>\n",
       "      <td>26.0</td>\n",
       "      <td>11.0</td>\n",
       "      <td>NaN</td>\n",
       "      <td>NaN</td>\n",
       "      <td>48.0</td>\n",
       "      <td>26.0</td>\n",
       "      <td>11.0</td>\n",
       "      <td>NaN</td>\n",
       "      <td>NaN</td>\n",
       "    </tr>\n",
       "  </tbody>\n",
       "</table>\n",
       "<p>5 rows × 25 columns</p>\n",
       "</div>"
      ],
      "text/plain": [
       "                                         DBN                         \\\n",
       "Progress_Rpt_10-11                         A     B     C     D    F   \n",
       "Quality_Review_Score                                                  \n",
       "Developing                               4.0  11.0  19.0  16.0  3.0   \n",
       "Outstanding (only an option in 2007-8)   3.0   NaN   NaN   NaN  NaN   \n",
       "Proficient                              48.0  65.0  39.0   5.0  NaN   \n",
       "Underdeveloped                           NaN   NaN   3.0   1.0  2.0   \n",
       "Well Developed                          53.0  26.0  11.0   NaN  NaN   \n",
       "\n",
       "                                       Student_Progress_10-11              \\\n",
       "Progress_Rpt_10-11                                          A     B     C   \n",
       "Quality_Review_Score                                                        \n",
       "Developing                                                4.0  11.0  19.0   \n",
       "Outstanding (only an option in 2007-8)                    3.0   NaN   NaN   \n",
       "Proficient                                               48.0  65.0  39.0   \n",
       "Underdeveloped                                            NaN   NaN   3.0   \n",
       "Well Developed                                           53.0  26.0  11.0   \n",
       "\n",
       "                                                   ... college enroll 2010-11  \\\n",
       "Progress_Rpt_10-11                         D    F  ...                      A   \n",
       "Quality_Review_Score                               ...                          \n",
       "Developing                              16.0  3.0  ...                    3.0   \n",
       "Outstanding (only an option in 2007-8)   NaN  NaN  ...                    3.0   \n",
       "Proficient                               5.0  NaN  ...                   45.0   \n",
       "Underdeveloped                           1.0  2.0  ...                    NaN   \n",
       "Well Developed                           NaN  NaN  ...                   48.0   \n",
       "\n",
       "                                                              collegeRate  \\\n",
       "Progress_Rpt_10-11                         B     C     D    F           A   \n",
       "Quality_Review_Score                                                        \n",
       "Developing                              11.0  16.0  15.0  2.0         3.0   \n",
       "Outstanding (only an option in 2007-8)   NaN   NaN   NaN  NaN         3.0   \n",
       "Proficient                              63.0  37.0   4.0  NaN        45.0   \n",
       "Underdeveloped                           NaN   3.0   1.0  2.0         NaN   \n",
       "Well Developed                          26.0  11.0   NaN  NaN        48.0   \n",
       "\n",
       "                                                               \n",
       "Progress_Rpt_10-11                         B     C     D    F  \n",
       "Quality_Review_Score                                           \n",
       "Developing                              11.0  16.0  15.0  2.0  \n",
       "Outstanding (only an option in 2007-8)   NaN   NaN   NaN  NaN  \n",
       "Proficient                              63.0  37.0   4.0  NaN  \n",
       "Underdeveloped                           NaN   3.0   1.0  2.0  \n",
       "Well Developed                          26.0  11.0   NaN  NaN  \n",
       "\n",
       "[5 rows x 25 columns]"
      ]
     },
     "execution_count": 150,
     "metadata": {},
     "output_type": "execute_result"
    }
   ],
   "source": [
    "ICEdata.groupby(['Quality_Review_Score', 'Progress_Rpt_10-11']).count().unstack()\n",
    "## Here unstack() is just to make the data more readable."
   ]
  },
  {
   "cell_type": "markdown",
   "id": "db9cc192",
   "metadata": {},
   "source": [
    "#aggregate()"
   ]
  },
  {
   "cell_type": "code",
   "execution_count": 151,
   "id": "3f7d3e01",
   "metadata": {},
   "outputs": [
    {
     "data": {
      "text/html": [
       "<div>\n",
       "<style scoped>\n",
       "    .dataframe tbody tr th:only-of-type {\n",
       "        vertical-align: middle;\n",
       "    }\n",
       "\n",
       "    .dataframe tbody tr th {\n",
       "        vertical-align: top;\n",
       "    }\n",
       "\n",
       "    .dataframe thead tr th {\n",
       "        text-align: left;\n",
       "    }\n",
       "\n",
       "    .dataframe thead tr:last-of-type th {\n",
       "        text-align: right;\n",
       "    }\n",
       "</style>\n",
       "<table border=\"1\" class=\"dataframe\">\n",
       "  <thead>\n",
       "    <tr>\n",
       "      <th></th>\n",
       "      <th colspan=\"3\" halign=\"left\">graduation 2010-11</th>\n",
       "      <th colspan=\"3\" halign=\"left\">college enroll 2010-11</th>\n",
       "      <th colspan=\"3\" halign=\"left\">collegeRate</th>\n",
       "    </tr>\n",
       "    <tr>\n",
       "      <th></th>\n",
       "      <th>median</th>\n",
       "      <th>min</th>\n",
       "      <th>max</th>\n",
       "      <th>median</th>\n",
       "      <th>min</th>\n",
       "      <th>max</th>\n",
       "      <th>median</th>\n",
       "      <th>min</th>\n",
       "      <th>max</th>\n",
       "    </tr>\n",
       "    <tr>\n",
       "      <th>Quality_Review_Score</th>\n",
       "      <th></th>\n",
       "      <th></th>\n",
       "      <th></th>\n",
       "      <th></th>\n",
       "      <th></th>\n",
       "      <th></th>\n",
       "      <th></th>\n",
       "      <th></th>\n",
       "      <th></th>\n",
       "    </tr>\n",
       "  </thead>\n",
       "  <tbody>\n",
       "    <tr>\n",
       "      <th>Developing</th>\n",
       "      <td>0.615</td>\n",
       "      <td>0.457</td>\n",
       "      <td>0.947</td>\n",
       "      <td>0.4030</td>\n",
       "      <td>0.165</td>\n",
       "      <td>0.658</td>\n",
       "      <td>0.647416</td>\n",
       "      <td>0.271829</td>\n",
       "      <td>1.048622</td>\n",
       "    </tr>\n",
       "    <tr>\n",
       "      <th>Outstanding (only an option in 2007-8)</th>\n",
       "      <td>0.811</td>\n",
       "      <td>0.800</td>\n",
       "      <td>0.982</td>\n",
       "      <td>0.6920</td>\n",
       "      <td>0.690</td>\n",
       "      <td>0.861</td>\n",
       "      <td>0.862500</td>\n",
       "      <td>0.853268</td>\n",
       "      <td>0.876782</td>\n",
       "    </tr>\n",
       "    <tr>\n",
       "      <th>Proficient</th>\n",
       "      <td>0.722</td>\n",
       "      <td>0.412</td>\n",
       "      <td>1.000</td>\n",
       "      <td>0.4900</td>\n",
       "      <td>0.183</td>\n",
       "      <td>0.990</td>\n",
       "      <td>0.699735</td>\n",
       "      <td>0.296503</td>\n",
       "      <td>1.101227</td>\n",
       "    </tr>\n",
       "    <tr>\n",
       "      <th>Underdeveloped</th>\n",
       "      <td>0.554</td>\n",
       "      <td>0.457</td>\n",
       "      <td>0.624</td>\n",
       "      <td>0.3715</td>\n",
       "      <td>0.141</td>\n",
       "      <td>0.465</td>\n",
       "      <td>0.712859</td>\n",
       "      <td>0.262570</td>\n",
       "      <td>0.756567</td>\n",
       "    </tr>\n",
       "    <tr>\n",
       "      <th>Underdeveloped with Proficient Features (only an option in 2007-8, 2008-9 and 2009-10)</th>\n",
       "      <td>NaN</td>\n",
       "      <td>NaN</td>\n",
       "      <td>NaN</td>\n",
       "      <td>NaN</td>\n",
       "      <td>NaN</td>\n",
       "      <td>NaN</td>\n",
       "      <td>NaN</td>\n",
       "      <td>NaN</td>\n",
       "      <td>NaN</td>\n",
       "    </tr>\n",
       "    <tr>\n",
       "      <th>Well Developed</th>\n",
       "      <td>0.833</td>\n",
       "      <td>0.545</td>\n",
       "      <td>1.000</td>\n",
       "      <td>0.5920</td>\n",
       "      <td>0.268</td>\n",
       "      <td>1.000</td>\n",
       "      <td>0.765269</td>\n",
       "      <td>0.388970</td>\n",
       "      <td>1.051422</td>\n",
       "    </tr>\n",
       "  </tbody>\n",
       "</table>\n",
       "</div>"
      ],
      "text/plain": [
       "                                                   graduation 2010-11         \\\n",
       "                                                               median    min   \n",
       "Quality_Review_Score                                                           \n",
       "Developing                                                      0.615  0.457   \n",
       "Outstanding (only an option in 2007-8)                          0.811  0.800   \n",
       "Proficient                                                      0.722  0.412   \n",
       "Underdeveloped                                                  0.554  0.457   \n",
       "Underdeveloped with Proficient Features (only a...                NaN    NaN   \n",
       "Well Developed                                                  0.833  0.545   \n",
       "\n",
       "                                                           \\\n",
       "                                                      max   \n",
       "Quality_Review_Score                                        \n",
       "Developing                                          0.947   \n",
       "Outstanding (only an option in 2007-8)              0.982   \n",
       "Proficient                                          1.000   \n",
       "Underdeveloped                                      0.624   \n",
       "Underdeveloped with Proficient Features (only a...    NaN   \n",
       "Well Developed                                      1.000   \n",
       "\n",
       "                                                   college enroll 2010-11  \\\n",
       "                                                                   median   \n",
       "Quality_Review_Score                                                        \n",
       "Developing                                                         0.4030   \n",
       "Outstanding (only an option in 2007-8)                             0.6920   \n",
       "Proficient                                                         0.4900   \n",
       "Underdeveloped                                                     0.3715   \n",
       "Underdeveloped with Proficient Features (only a...                    NaN   \n",
       "Well Developed                                                     0.5920   \n",
       "\n",
       "                                                                 collegeRate  \\\n",
       "                                                      min    max      median   \n",
       "Quality_Review_Score                                                           \n",
       "Developing                                          0.165  0.658    0.647416   \n",
       "Outstanding (only an option in 2007-8)              0.690  0.861    0.862500   \n",
       "Proficient                                          0.183  0.990    0.699735   \n",
       "Underdeveloped                                      0.141  0.465    0.712859   \n",
       "Underdeveloped with Proficient Features (only a...    NaN    NaN         NaN   \n",
       "Well Developed                                      0.268  1.000    0.765269   \n",
       "\n",
       "                                                                        \n",
       "                                                         min       max  \n",
       "Quality_Review_Score                                                    \n",
       "Developing                                          0.271829  1.048622  \n",
       "Outstanding (only an option in 2007-8)              0.853268  0.876782  \n",
       "Proficient                                          0.296503  1.101227  \n",
       "Underdeveloped                                      0.262570  0.756567  \n",
       "Underdeveloped with Proficient Features (only a...       NaN       NaN  \n",
       "Well Developed                                      0.388970  1.051422  "
      ]
     },
     "execution_count": 151,
     "metadata": {},
     "output_type": "execute_result"
    }
   ],
   "source": [
    "ICEdata.groupby('Quality_Review_Score').aggregate(['median', 'min', 'max'])"
   ]
  },
  {
   "cell_type": "markdown",
   "id": "9801b89b",
   "metadata": {},
   "source": [
    "#request the median data of graduation 2010-11 for Quality_Review_Score, Progress_Rpt_10-11:"
   ]
  },
  {
   "cell_type": "code",
   "execution_count": 153,
   "id": "441b8d1f",
   "metadata": {},
   "outputs": [
    {
     "data": {
      "text/html": [
       "<div>\n",
       "<style scoped>\n",
       "    .dataframe tbody tr th:only-of-type {\n",
       "        vertical-align: middle;\n",
       "    }\n",
       "\n",
       "    .dataframe tbody tr th {\n",
       "        vertical-align: top;\n",
       "    }\n",
       "\n",
       "    .dataframe thead th {\n",
       "        text-align: right;\n",
       "    }\n",
       "</style>\n",
       "<table border=\"1\" class=\"dataframe\">\n",
       "  <thead>\n",
       "    <tr style=\"text-align: right;\">\n",
       "      <th>Progress_Rpt_10-11</th>\n",
       "      <th>A</th>\n",
       "      <th>B</th>\n",
       "      <th>C</th>\n",
       "      <th>D</th>\n",
       "      <th>F</th>\n",
       "    </tr>\n",
       "    <tr>\n",
       "      <th>Quality_Review_Score</th>\n",
       "      <th></th>\n",
       "      <th></th>\n",
       "      <th></th>\n",
       "      <th></th>\n",
       "      <th></th>\n",
       "    </tr>\n",
       "  </thead>\n",
       "  <tbody>\n",
       "    <tr>\n",
       "      <th>Developing</th>\n",
       "      <td>0.702</td>\n",
       "      <td>0.6290</td>\n",
       "      <td>0.587</td>\n",
       "      <td>0.615</td>\n",
       "      <td>0.506</td>\n",
       "    </tr>\n",
       "    <tr>\n",
       "      <th>Outstanding (only an option in 2007-8)</th>\n",
       "      <td>0.811</td>\n",
       "      <td>NaN</td>\n",
       "      <td>NaN</td>\n",
       "      <td>NaN</td>\n",
       "      <td>NaN</td>\n",
       "    </tr>\n",
       "    <tr>\n",
       "      <th>Proficient</th>\n",
       "      <td>0.806</td>\n",
       "      <td>0.7150</td>\n",
       "      <td>0.662</td>\n",
       "      <td>0.531</td>\n",
       "      <td>NaN</td>\n",
       "    </tr>\n",
       "    <tr>\n",
       "      <th>Underdeveloped</th>\n",
       "      <td>NaN</td>\n",
       "      <td>NaN</td>\n",
       "      <td>0.537</td>\n",
       "      <td>0.457</td>\n",
       "      <td>0.586</td>\n",
       "    </tr>\n",
       "    <tr>\n",
       "      <th>Well Developed</th>\n",
       "      <td>0.879</td>\n",
       "      <td>0.8145</td>\n",
       "      <td>0.676</td>\n",
       "      <td>NaN</td>\n",
       "      <td>NaN</td>\n",
       "    </tr>\n",
       "  </tbody>\n",
       "</table>\n",
       "</div>"
      ],
      "text/plain": [
       "Progress_Rpt_10-11                          A       B      C      D      F\n",
       "Quality_Review_Score                                                      \n",
       "Developing                              0.702  0.6290  0.587  0.615  0.506\n",
       "Outstanding (only an option in 2007-8)  0.811     NaN    NaN    NaN    NaN\n",
       "Proficient                              0.806  0.7150  0.662  0.531    NaN\n",
       "Underdeveloped                            NaN     NaN  0.537  0.457  0.586\n",
       "Well Developed                          0.879  0.8145  0.676    NaN    NaN"
      ]
     },
     "execution_count": 153,
     "metadata": {},
     "output_type": "execute_result"
    }
   ],
   "source": [
    "ICEdata.groupby(['Quality_Review_Score', 'Progress_Rpt_10-11'])['graduation 2010-11'].aggregate('median').unstack()"
   ]
  },
  {
   "cell_type": "code",
   "execution_count": 154,
   "id": "79f71456",
   "metadata": {},
   "outputs": [
    {
     "data": {
      "text/html": [
       "<div>\n",
       "<style scoped>\n",
       "    .dataframe tbody tr th:only-of-type {\n",
       "        vertical-align: middle;\n",
       "    }\n",
       "\n",
       "    .dataframe tbody tr th {\n",
       "        vertical-align: top;\n",
       "    }\n",
       "\n",
       "    .dataframe thead th {\n",
       "        text-align: right;\n",
       "    }\n",
       "</style>\n",
       "<table border=\"1\" class=\"dataframe\">\n",
       "  <thead>\n",
       "    <tr style=\"text-align: right;\">\n",
       "      <th>Progress_Rpt_10-11</th>\n",
       "      <th>A</th>\n",
       "      <th>B</th>\n",
       "      <th>C</th>\n",
       "      <th>D</th>\n",
       "      <th>F</th>\n",
       "    </tr>\n",
       "    <tr>\n",
       "      <th>Quality_Review_Score</th>\n",
       "      <th></th>\n",
       "      <th></th>\n",
       "      <th></th>\n",
       "      <th></th>\n",
       "      <th></th>\n",
       "    </tr>\n",
       "  </thead>\n",
       "  <tbody>\n",
       "    <tr>\n",
       "      <th>Developing</th>\n",
       "      <td>0.716500</td>\n",
       "      <td>0.654545</td>\n",
       "      <td>0.639474</td>\n",
       "      <td>0.613812</td>\n",
       "      <td>0.504333</td>\n",
       "    </tr>\n",
       "    <tr>\n",
       "      <th>Outstanding (only an option in 2007-8)</th>\n",
       "      <td>0.864333</td>\n",
       "      <td>NaN</td>\n",
       "      <td>NaN</td>\n",
       "      <td>NaN</td>\n",
       "      <td>NaN</td>\n",
       "    </tr>\n",
       "    <tr>\n",
       "      <th>Proficient</th>\n",
       "      <td>0.817083</td>\n",
       "      <td>0.722077</td>\n",
       "      <td>0.660333</td>\n",
       "      <td>0.526400</td>\n",
       "      <td>NaN</td>\n",
       "    </tr>\n",
       "    <tr>\n",
       "      <th>Underdeveloped</th>\n",
       "      <td>NaN</td>\n",
       "      <td>NaN</td>\n",
       "      <td>0.556333</td>\n",
       "      <td>0.457000</td>\n",
       "      <td>0.586000</td>\n",
       "    </tr>\n",
       "    <tr>\n",
       "      <th>Well Developed</th>\n",
       "      <td>0.862472</td>\n",
       "      <td>0.791000</td>\n",
       "      <td>0.711455</td>\n",
       "      <td>NaN</td>\n",
       "      <td>NaN</td>\n",
       "    </tr>\n",
       "  </tbody>\n",
       "</table>\n",
       "</div>"
      ],
      "text/plain": [
       "Progress_Rpt_10-11                             A         B         C  \\\n",
       "Quality_Review_Score                                                   \n",
       "Developing                              0.716500  0.654545  0.639474   \n",
       "Outstanding (only an option in 2007-8)  0.864333       NaN       NaN   \n",
       "Proficient                              0.817083  0.722077  0.660333   \n",
       "Underdeveloped                               NaN       NaN  0.556333   \n",
       "Well Developed                          0.862472  0.791000  0.711455   \n",
       "\n",
       "Progress_Rpt_10-11                             D         F  \n",
       "Quality_Review_Score                                        \n",
       "Developing                              0.613812  0.504333  \n",
       "Outstanding (only an option in 2007-8)       NaN       NaN  \n",
       "Proficient                              0.526400       NaN  \n",
       "Underdeveloped                          0.457000  0.586000  \n",
       "Well Developed                               NaN       NaN  "
      ]
     },
     "execution_count": 154,
     "metadata": {},
     "output_type": "execute_result"
    }
   ],
   "source": [
    "#use this one is easier \n",
    "ICEdata.pivot_table('graduation 2010-11', index='Quality_Review_Score', columns='Progress_Rpt_10-11')"
   ]
  },
  {
   "cell_type": "markdown",
   "id": "aaac3539",
   "metadata": {},
   "source": [
    "#pivot_table uses aggfunc keyword to know median mean "
   ]
  },
  {
   "cell_type": "code",
   "execution_count": 155,
   "id": "0db20d3e",
   "metadata": {},
   "outputs": [
    {
     "data": {
      "text/html": [
       "<div>\n",
       "<style scoped>\n",
       "    .dataframe tbody tr th:only-of-type {\n",
       "        vertical-align: middle;\n",
       "    }\n",
       "\n",
       "    .dataframe tbody tr th {\n",
       "        vertical-align: top;\n",
       "    }\n",
       "\n",
       "    .dataframe thead th {\n",
       "        text-align: right;\n",
       "    }\n",
       "</style>\n",
       "<table border=\"1\" class=\"dataframe\">\n",
       "  <thead>\n",
       "    <tr style=\"text-align: right;\">\n",
       "      <th>Progress_Rpt_10-11</th>\n",
       "      <th>A</th>\n",
       "      <th>B</th>\n",
       "      <th>C</th>\n",
       "      <th>D</th>\n",
       "      <th>F</th>\n",
       "    </tr>\n",
       "    <tr>\n",
       "      <th>Quality_Review_Score</th>\n",
       "      <th></th>\n",
       "      <th></th>\n",
       "      <th></th>\n",
       "      <th></th>\n",
       "      <th></th>\n",
       "    </tr>\n",
       "  </thead>\n",
       "  <tbody>\n",
       "    <tr>\n",
       "      <th>Developing</th>\n",
       "      <td>0.702</td>\n",
       "      <td>0.6290</td>\n",
       "      <td>0.587</td>\n",
       "      <td>0.615</td>\n",
       "      <td>0.506</td>\n",
       "    </tr>\n",
       "    <tr>\n",
       "      <th>Outstanding (only an option in 2007-8)</th>\n",
       "      <td>0.811</td>\n",
       "      <td>NaN</td>\n",
       "      <td>NaN</td>\n",
       "      <td>NaN</td>\n",
       "      <td>NaN</td>\n",
       "    </tr>\n",
       "    <tr>\n",
       "      <th>Proficient</th>\n",
       "      <td>0.806</td>\n",
       "      <td>0.7150</td>\n",
       "      <td>0.662</td>\n",
       "      <td>0.531</td>\n",
       "      <td>NaN</td>\n",
       "    </tr>\n",
       "    <tr>\n",
       "      <th>Underdeveloped</th>\n",
       "      <td>NaN</td>\n",
       "      <td>NaN</td>\n",
       "      <td>0.537</td>\n",
       "      <td>0.457</td>\n",
       "      <td>0.586</td>\n",
       "    </tr>\n",
       "    <tr>\n",
       "      <th>Well Developed</th>\n",
       "      <td>0.879</td>\n",
       "      <td>0.8145</td>\n",
       "      <td>0.676</td>\n",
       "      <td>NaN</td>\n",
       "      <td>NaN</td>\n",
       "    </tr>\n",
       "  </tbody>\n",
       "</table>\n",
       "</div>"
      ],
      "text/plain": [
       "Progress_Rpt_10-11                          A       B      C      D      F\n",
       "Quality_Review_Score                                                      \n",
       "Developing                              0.702  0.6290  0.587  0.615  0.506\n",
       "Outstanding (only an option in 2007-8)  0.811     NaN    NaN    NaN    NaN\n",
       "Proficient                              0.806  0.7150  0.662  0.531    NaN\n",
       "Underdeveloped                            NaN     NaN  0.537  0.457  0.586\n",
       "Well Developed                          0.879  0.8145  0.676    NaN    NaN"
      ]
     },
     "execution_count": 155,
     "metadata": {},
     "output_type": "execute_result"
    }
   ],
   "source": [
    "ICEdata.pivot_table('graduation 2010-11',\n",
    "                    index='Quality_Review_Score',\n",
    "                    columns='Progress_Rpt_10-11',\n",
    "                   aggfunc = 'median')"
   ]
  },
  {
   "cell_type": "code",
   "execution_count": null,
   "id": "68fdef8f",
   "metadata": {},
   "outputs": [],
   "source": []
  }
 ],
 "metadata": {
  "kernelspec": {
   "display_name": "Python 3",
   "language": "python",
   "name": "python3"
  },
  "language_info": {
   "codemirror_mode": {
    "name": "ipython",
    "version": 3
   },
   "file_extension": ".py",
   "mimetype": "text/x-python",
   "name": "python",
   "nbconvert_exporter": "python",
   "pygments_lexer": "ipython3",
   "version": "3.8.8"
  }
 },
 "nbformat": 4,
 "nbformat_minor": 5
}
